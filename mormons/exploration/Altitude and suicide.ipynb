{
 "cells": [
  {
   "cell_type": "code",
   "execution_count": 6,
   "metadata": {},
   "outputs": [],
   "source": [
    "import pandas as pd\n",
    "\n",
    "import seaborn as sns\n",
    "\n",
    "sns.set_context(\"talk\")\n",
    "import matplotlib.pyplot as plt\n",
    "import statsmodels\n",
    "\n",
    "import statsmodels.formula.api as smf\n",
    "import numpy as np\n",
    "plt.style.use(\"ggplot\")\n",
    "data=pd.read_csv('clean_data/final_dataset.csv')\n",
    "data[['income_census','pop_census']]=np.log(data[['income_census','pop_census']])"
   ]
  },
  {
   "cell_type": "code",
   "execution_count": 5,
   "metadata": {},
   "outputs": [
    {
     "data": {
      "text/plain": [
       "<matplotlib.axes._subplots.AxesSubplot at 0x7f2a0c640c50>"
      ]
     },
     "execution_count": 5,
     "metadata": {},
     "output_type": "execute_result"
    },
    {
     "data": {
      "image/png": "[encoded data removed]",
      "text/plain": [
       "<Figure size 432x288 with 1 Axes>"
      ]
     },
     "metadata": {},
     "output_type": "display_data"
    }
   ],
   "source": [
    "data.plot.scatter('altitude','mortality_self_ha')"
   ]
  },
  {
   "cell_type": "code",
   "execution_count": 8,
   "metadata": {},
   "outputs": [
    {
     "data": {
      "text/html": [
       "<table class=\"simpletable\">\n",
       "<caption>OLS Regression Results</caption>\n",
       "<tr>\n",
       "  <th>Dep. Variable:</th>    <td>mortality_self_ha</td> <th>  R-squared:         </th> <td>   0.048</td> \n",
       "</tr>\n",
       "<tr>\n",
       "  <th>Model:</th>                   <td>OLS</td>        <th>  Adj. R-squared:    </th> <td>   0.047</td> \n",
       "</tr>\n",
       "<tr>\n",
       "  <th>Method:</th>             <td>Least Squares</td>   <th>  F-statistic:       </th> <td>   156.6</td> \n",
       "</tr>\n",
       "<tr>\n",
       "  <th>Date:</th>             <td>Sun, 23 Dec 2018</td>  <th>  Prob (F-statistic):</th> <td>4.24e-35</td> \n",
       "</tr>\n",
       "<tr>\n",
       "  <th>Time:</th>                 <td>21:56:24</td>      <th>  Log-Likelihood:    </th> <td> -9405.3</td> \n",
       "</tr>\n",
       "<tr>\n",
       "  <th>No. Observations:</th>      <td>  3126</td>       <th>  AIC:               </th> <td>1.881e+04</td>\n",
       "</tr>\n",
       "<tr>\n",
       "  <th>Df Residuals:</th>          <td>  3124</td>       <th>  BIC:               </th> <td>1.883e+04</td>\n",
       "</tr>\n",
       "<tr>\n",
       "  <th>Df Model:</th>              <td>     1</td>       <th>                     </th>     <td> </td>    \n",
       "</tr>\n",
       "<tr>\n",
       "  <th>Covariance Type:</th>      <td>nonrobust</td>     <th>                     </th>     <td> </td>    \n",
       "</tr>\n",
       "</table>\n",
       "<table class=\"simpletable\">\n",
       "<tr>\n",
       "        <td></td>           <th>coef</th>     <th>std err</th>      <th>t</th>      <th>P>|t|</th>  <th>[0.025</th>    <th>0.975]</th>  \n",
       "</tr>\n",
       "<tr>\n",
       "  <th>Intercept</th>     <td>   65.6271</td> <td>    3.949</td> <td>   16.617</td> <td> 0.000</td> <td>   57.883</td> <td>   73.371</td>\n",
       "</tr>\n",
       "<tr>\n",
       "  <th>income_census</th> <td>   -4.9436</td> <td>    0.395</td> <td>  -12.515</td> <td> 0.000</td> <td>   -5.718</td> <td>   -4.169</td>\n",
       "</tr>\n",
       "</table>\n",
       "<table class=\"simpletable\">\n",
       "<tr>\n",
       "  <th>Omnibus:</th>       <td>2035.897</td> <th>  Durbin-Watson:     </th> <td>   1.209</td> \n",
       "</tr>\n",
       "<tr>\n",
       "  <th>Prob(Omnibus):</th>  <td> 0.000</td>  <th>  Jarque-Bera (JB):  </th> <td>47712.815</td>\n",
       "</tr>\n",
       "<tr>\n",
       "  <th>Skew:</th>           <td> 2.716</td>  <th>  Prob(JB):          </th> <td>    0.00</td> \n",
       "</tr>\n",
       "<tr>\n",
       "  <th>Kurtosis:</th>       <td>21.352</td>  <th>  Cond. No.          </th> <td>    455.</td> \n",
       "</tr>\n",
       "</table><br/><br/>Warnings:<br/>[1] Standard Errors assume that the covariance matrix of the errors is correctly specified."
      ],
      "text/plain": [
       "<class 'statsmodels.iolib.summary.Summary'>\n",
       "\"\"\"\n",
       "                            OLS Regression Results                            \n",
       "==============================================================================\n",
       "Dep. Variable:      mortality_self_ha   R-squared:                       0.048\n",
       "Model:                            OLS   Adj. R-squared:                  0.047\n",
       "Method:                 Least Squares   F-statistic:                     156.6\n",
       "Date:                Sun, 23 Dec 2018   Prob (F-statistic):           4.24e-35\n",
       "Time:                        21:56:24   Log-Likelihood:                -9405.3\n",
       "No. Observations:                3126   AIC:                         1.881e+04\n",
       "Df Residuals:                    3124   BIC:                         1.883e+04\n",
       "Df Model:                           1                                         \n",
       "Covariance Type:            nonrobust                                         \n",
       "=================================================================================\n",
       "                    coef    std err          t      P>|t|      [0.025      0.975]\n",
       "---------------------------------------------------------------------------------\n",
       "Intercept        65.6271      3.949     16.617      0.000      57.883      73.371\n",
       "income_census    -4.9436      0.395    -12.515      0.000      -5.718      -4.169\n",
       "==============================================================================\n",
       "Omnibus:                     2035.897   Durbin-Watson:                   1.209\n",
       "Prob(Omnibus):                  0.000   Jarque-Bera (JB):            47712.815\n",
       "Skew:                           2.716   Prob(JB):                         0.00\n",
       "Kurtosis:                      21.352   Cond. No.                         455.\n",
       "==============================================================================\n",
       "\n",
       "Warnings:\n",
       "[1] Standard Errors assume that the covariance matrix of the errors is correctly specified.\n",
       "\"\"\""
      ]
     },
     "execution_count": 8,
     "metadata": {},
     "output_type": "execute_result"
    }
   ],
   "source": [
    "smf.ols('mortality_self_ha~income_census',data=data).fit().summary()"
   ]
  },
  {
   "cell_type": "code",
   "execution_count": 21,
   "metadata": {},
   "outputs": [
    {
     "data": {
      "text/html": [
       "<table class=\"simpletable\">\n",
       "<caption>OLS Regression Results</caption>\n",
       "<tr>\n",
       "  <th>Dep. Variable:</th>    <td>mortality_self_ha</td> <th>  R-squared:         </th> <td>   0.401</td> \n",
       "</tr>\n",
       "<tr>\n",
       "  <th>Model:</th>                   <td>OLS</td>        <th>  Adj. R-squared:    </th> <td>   0.401</td> \n",
       "</tr>\n",
       "<tr>\n",
       "  <th>Method:</th>             <td>Least Squares</td>   <th>  F-statistic:       </th> <td>   523.4</td> \n",
       "</tr>\n",
       "<tr>\n",
       "  <th>Date:</th>             <td>Sun, 23 Dec 2018</td>  <th>  Prob (F-statistic):</th>  <td>  0.00</td>  \n",
       "</tr>\n",
       "<tr>\n",
       "  <th>Time:</th>                 <td>22:00:24</td>      <th>  Log-Likelihood:    </th> <td> -8679.5</td> \n",
       "</tr>\n",
       "<tr>\n",
       "  <th>No. Observations:</th>      <td>  3126</td>       <th>  AIC:               </th> <td>1.737e+04</td>\n",
       "</tr>\n",
       "<tr>\n",
       "  <th>Df Residuals:</th>          <td>  3121</td>       <th>  BIC:               </th> <td>1.740e+04</td>\n",
       "</tr>\n",
       "<tr>\n",
       "  <th>Df Model:</th>              <td>     4</td>       <th>                     </th>     <td> </td>    \n",
       "</tr>\n",
       "<tr>\n",
       "  <th>Covariance Type:</th>      <td>nonrobust</td>     <th>                     </th>     <td> </td>    \n",
       "</tr>\n",
       "</table>\n",
       "<table class=\"simpletable\">\n",
       "<tr>\n",
       "        <td></td>           <th>coef</th>     <th>std err</th>      <th>t</th>      <th>P>|t|</th>  <th>[0.025</th>    <th>0.975]</th>  \n",
       "</tr>\n",
       "<tr>\n",
       "  <th>Intercept</th>     <td>   59.6711</td> <td>    3.198</td> <td>   18.661</td> <td> 0.000</td> <td>   53.402</td> <td>   65.941</td>\n",
       "</tr>\n",
       "<tr>\n",
       "  <th>altitude</th>      <td>    0.0033</td> <td>    0.000</td> <td>   22.888</td> <td> 0.000</td> <td>    0.003</td> <td>    0.004</td>\n",
       "</tr>\n",
       "<tr>\n",
       "  <th>nhwrate</th>       <td>    4.5830</td> <td>    0.379</td> <td>   12.091</td> <td> 0.000</td> <td>    3.840</td> <td>    5.326</td>\n",
       "</tr>\n",
       "<tr>\n",
       "  <th>income_census</th> <td>   -4.9045</td> <td>    0.324</td> <td>  -15.116</td> <td> 0.000</td> <td>   -5.541</td> <td>   -4.268</td>\n",
       "</tr>\n",
       "<tr>\n",
       "  <th>nativerate</th>    <td>   33.5947</td> <td>    1.041</td> <td>   32.260</td> <td> 0.000</td> <td>   31.553</td> <td>   35.637</td>\n",
       "</tr>\n",
       "</table>\n",
       "<table class=\"simpletable\">\n",
       "<tr>\n",
       "  <th>Omnibus:</th>       <td>1188.809</td> <th>  Durbin-Watson:     </th> <td>   1.471</td> \n",
       "</tr>\n",
       "<tr>\n",
       "  <th>Prob(Omnibus):</th>  <td> 0.000</td>  <th>  Jarque-Bera (JB):  </th> <td>15740.885</td>\n",
       "</tr>\n",
       "<tr>\n",
       "  <th>Skew:</th>           <td> 1.429</td>  <th>  Prob(JB):          </th> <td>    0.00</td> \n",
       "</tr>\n",
       "<tr>\n",
       "  <th>Kurtosis:</th>       <td>13.615</td>  <th>  Cond. No.          </th> <td>3.02e+04</td> \n",
       "</tr>\n",
       "</table><br/><br/>Warnings:<br/>[1] Standard Errors assume that the covariance matrix of the errors is correctly specified.<br/>[2] The condition number is large, 3.02e+04. This might indicate that there are<br/>strong multicollinearity or other numerical problems."
      ],
      "text/plain": [
       "<class 'statsmodels.iolib.summary.Summary'>\n",
       "\"\"\"\n",
       "                            OLS Regression Results                            \n",
       "==============================================================================\n",
       "Dep. Variable:      mortality_self_ha   R-squared:                       0.401\n",
       "Model:                            OLS   Adj. R-squared:                  0.401\n",
       "Method:                 Least Squares   F-statistic:                     523.4\n",
       "Date:                Sun, 23 Dec 2018   Prob (F-statistic):               0.00\n",
       "Time:                        22:00:24   Log-Likelihood:                -8679.5\n",
       "No. Observations:                3126   AIC:                         1.737e+04\n",
       "Df Residuals:                    3121   BIC:                         1.740e+04\n",
       "Df Model:                           4                                         \n",
       "Covariance Type:            nonrobust                                         \n",
       "=================================================================================\n",
       "                    coef    std err          t      P>|t|      [0.025      0.975]\n",
       "---------------------------------------------------------------------------------\n",
       "Intercept        59.6711      3.198     18.661      0.000      53.402      65.941\n",
       "altitude          0.0033      0.000     22.888      0.000       0.003       0.004\n",
       "nhwrate           4.5830      0.379     12.091      0.000       3.840       5.326\n",
       "income_census    -4.9045      0.324    -15.116      0.000      -5.541      -4.268\n",
       "nativerate       33.5947      1.041     32.260      0.000      31.553      35.637\n",
       "==============================================================================\n",
       "Omnibus:                     1188.809   Durbin-Watson:                   1.471\n",
       "Prob(Omnibus):                  0.000   Jarque-Bera (JB):            15740.885\n",
       "Skew:                           1.429   Prob(JB):                         0.00\n",
       "Kurtosis:                      13.615   Cond. No.                     3.02e+04\n",
       "==============================================================================\n",
       "\n",
       "Warnings:\n",
       "[1] Standard Errors assume that the covariance matrix of the errors is correctly specified.\n",
       "[2] The condition number is large, 3.02e+04. This might indicate that there are\n",
       "strong multicollinearity or other numerical problems.\n",
       "\"\"\""
      ]
     },
     "execution_count": 21,
     "metadata": {},
     "output_type": "execute_result"
    }
   ],
   "source": [
    "res=smf.ols('mortality_self_ha~altitude+nhwrate+income_census+nativerate',data=data).fit()\n",
    "res.summary()"
   ]
  },
  {
   "cell_type": "code",
   "execution_count": 22,
   "metadata": {
    "scrolled": true
   },
   "outputs": [],
   "source": [
    "data['residual_mor']=res.resid"
   ]
  },
  {
   "cell_type": "code",
   "execution_count": 28,
   "metadata": {},
   "outputs": [
    {
     "data": {
      "text/html": [
       "<table class=\"simpletable\">\n",
       "<caption>OLS Regression Results</caption>\n",
       "<tr>\n",
       "  <th>Dep. Variable:</th>      <td>residual_mor</td>   <th>  R-squared:         </th> <td>   0.011</td> \n",
       "</tr>\n",
       "<tr>\n",
       "  <th>Model:</th>                   <td>OLS</td>       <th>  Adj. R-squared:    </th> <td>   0.010</td> \n",
       "</tr>\n",
       "<tr>\n",
       "  <th>Method:</th>             <td>Least Squares</td>  <th>  F-statistic:       </th> <td>   33.16</td> \n",
       "</tr>\n",
       "<tr>\n",
       "  <th>Date:</th>             <td>Sun, 23 Dec 2018</td> <th>  Prob (F-statistic):</th> <td>9.31e-09</td> \n",
       "</tr>\n",
       "<tr>\n",
       "  <th>Time:</th>                 <td>22:02:10</td>     <th>  Log-Likelihood:    </th> <td> -8663.0</td> \n",
       "</tr>\n",
       "<tr>\n",
       "  <th>No. Observations:</th>      <td>  3126</td>      <th>  AIC:               </th> <td>1.733e+04</td>\n",
       "</tr>\n",
       "<tr>\n",
       "  <th>Df Residuals:</th>          <td>  3124</td>      <th>  BIC:               </th> <td>1.734e+04</td>\n",
       "</tr>\n",
       "<tr>\n",
       "  <th>Df Model:</th>              <td>     1</td>      <th>                     </th>     <td> </td>    \n",
       "</tr>\n",
       "<tr>\n",
       "  <th>Covariance Type:</th>      <td>nonrobust</td>    <th>                     </th>     <td> </td>    \n",
       "</tr>\n",
       "</table>\n",
       "<table class=\"simpletable\">\n",
       "<tr>\n",
       "      <td></td>         <th>coef</th>     <th>std err</th>      <th>t</th>      <th>P>|t|</th>  <th>[0.025</th>    <th>0.975]</th>  \n",
       "</tr>\n",
       "<tr>\n",
       "  <th>Intercept</th> <td>   -0.1014</td> <td>    0.071</td> <td>   -1.421</td> <td> 0.155</td> <td>   -0.241</td> <td>    0.039</td>\n",
       "</tr>\n",
       "<tr>\n",
       "  <th>mormon</th>    <td>    0.0047</td> <td>    0.001</td> <td>    5.758</td> <td> 0.000</td> <td>    0.003</td> <td>    0.006</td>\n",
       "</tr>\n",
       "</table>\n",
       "<table class=\"simpletable\">\n",
       "<tr>\n",
       "  <th>Omnibus:</th>       <td>1149.713</td> <th>  Durbin-Watson:     </th> <td>   1.497</td> \n",
       "</tr>\n",
       "<tr>\n",
       "  <th>Prob(Omnibus):</th>  <td> 0.000</td>  <th>  Jarque-Bera (JB):  </th> <td>16161.327</td>\n",
       "</tr>\n",
       "<tr>\n",
       "  <th>Skew:</th>           <td> 1.350</td>  <th>  Prob(JB):          </th> <td>    0.00</td> \n",
       "</tr>\n",
       "<tr>\n",
       "  <th>Kurtosis:</th>       <td>13.807</td>  <th>  Cond. No.          </th> <td>    91.2</td> \n",
       "</tr>\n",
       "</table><br/><br/>Warnings:<br/>[1] Standard Errors assume that the covariance matrix of the errors is correctly specified."
      ],
      "text/plain": [
       "<class 'statsmodels.iolib.summary.Summary'>\n",
       "\"\"\"\n",
       "                            OLS Regression Results                            \n",
       "==============================================================================\n",
       "Dep. Variable:           residual_mor   R-squared:                       0.011\n",
       "Model:                            OLS   Adj. R-squared:                  0.010\n",
       "Method:                 Least Squares   F-statistic:                     33.16\n",
       "Date:                Sun, 23 Dec 2018   Prob (F-statistic):           9.31e-09\n",
       "Time:                        22:02:10   Log-Likelihood:                -8663.0\n",
       "No. Observations:                3126   AIC:                         1.733e+04\n",
       "Df Residuals:                    3124   BIC:                         1.734e+04\n",
       "Df Model:                           1                                         \n",
       "Covariance Type:            nonrobust                                         \n",
       "==============================================================================\n",
       "                 coef    std err          t      P>|t|      [0.025      0.975]\n",
       "------------------------------------------------------------------------------\n",
       "Intercept     -0.1014      0.071     -1.421      0.155      -0.241       0.039\n",
       "mormon         0.0047      0.001      5.758      0.000       0.003       0.006\n",
       "==============================================================================\n",
       "Omnibus:                     1149.713   Durbin-Watson:                   1.497\n",
       "Prob(Omnibus):                  0.000   Jarque-Bera (JB):            16161.327\n",
       "Skew:                           1.350   Prob(JB):                         0.00\n",
       "Kurtosis:                      13.807   Cond. No.                         91.2\n",
       "==============================================================================\n",
       "\n",
       "Warnings:\n",
       "[1] Standard Errors assume that the covariance matrix of the errors is correctly specified.\n",
       "\"\"\""
      ]
     },
     "execution_count": 28,
     "metadata": {},
     "output_type": "execute_result"
    }
   ],
   "source": [
    "#Even after controlling for altitude, state_mormon has a significant coefficient.\n",
    "smf.ols('residual_mor~mormon',data=data).fit().summary()"
   ]
  },
  {
   "cell_type": "code",
   "execution_count": 33,
   "metadata": {},
   "outputs": [
    {
     "data": {
      "text/plain": [
       "<seaborn.axisgrid.FacetGrid at 0x7f29cb35cb70>"
      ]
     },
     "execution_count": 33,
     "metadata": {},
     "output_type": "execute_result"
    },
    {
     "data": {
      "image/png": "[encoded data removed]",
      "text/plain": [
       "<Figure size 360x360 with 1 Axes>"
      ]
     },
     "metadata": {},
     "output_type": "display_data"
    }
   ],
   "source": [
    "sns.lmplot(\"mormon\",\"mortality_self_ha\", data,robust=True)"
   ]
  },
  {
   "cell_type": "code",
   "execution_count": 32,
   "metadata": {},
   "outputs": [
    {
     "data": {
      "text/plain": [
       "<seaborn.axisgrid.FacetGrid at 0x7f29cb4ea128>"
      ]
     },
     "execution_count": 32,
     "metadata": {},
     "output_type": "execute_result"
    },
    {
     "data": {
      "image/png": "[encoded data removed]",
      "text/plain": [
       "<Figure size 360x360 with 1 Axes>"
      ]
     },
     "metadata": {},
     "output_type": "display_data"
    }
   ],
   "source": [
    "sns.lmplot(\"mormon\",\"residual_mor\", data,robust=True)"
   ]
  },
  {
   "cell_type": "code",
   "execution_count": 14,
   "metadata": {},
   "outputs": [
    {
     "data": {
      "text/html": [
       "<table class=\"simpletable\">\n",
       "<caption>OLS Regression Results</caption>\n",
       "<tr>\n",
       "  <th>Dep. Variable:</th>    <td>mortality_self_ha</td> <th>  R-squared:         </th> <td>   0.413</td> \n",
       "</tr>\n",
       "<tr>\n",
       "  <th>Model:</th>                   <td>OLS</td>        <th>  Adj. R-squared:    </th> <td>   0.412</td> \n",
       "</tr>\n",
       "<tr>\n",
       "  <th>Method:</th>             <td>Least Squares</td>   <th>  F-statistic:       </th> <td>   366.1</td> \n",
       "</tr>\n",
       "<tr>\n",
       "  <th>Date:</th>             <td>Sun, 23 Dec 2018</td>  <th>  Prob (F-statistic):</th>  <td>  0.00</td>  \n",
       "</tr>\n",
       "<tr>\n",
       "  <th>Time:</th>                 <td>21:57:34</td>      <th>  Log-Likelihood:    </th> <td> -8648.5</td> \n",
       "</tr>\n",
       "<tr>\n",
       "  <th>No. Observations:</th>      <td>  3126</td>       <th>  AIC:               </th> <td>1.731e+04</td>\n",
       "</tr>\n",
       "<tr>\n",
       "  <th>Df Residuals:</th>          <td>  3119</td>       <th>  BIC:               </th> <td>1.735e+04</td>\n",
       "</tr>\n",
       "<tr>\n",
       "  <th>Df Model:</th>              <td>     6</td>       <th>                     </th>     <td> </td>    \n",
       "</tr>\n",
       "<tr>\n",
       "  <th>Covariance Type:</th>      <td>nonrobust</td>     <th>                     </th>     <td> </td>    \n",
       "</tr>\n",
       "</table>\n",
       "<table class=\"simpletable\">\n",
       "<tr>\n",
       "        <td></td>           <th>coef</th>     <th>std err</th>      <th>t</th>      <th>P>|t|</th>  <th>[0.025</th>    <th>0.975]</th>  \n",
       "</tr>\n",
       "<tr>\n",
       "  <th>Intercept</th>     <td>   58.3918</td> <td>    3.177</td> <td>   18.380</td> <td> 0.000</td> <td>   52.163</td> <td>   64.621</td>\n",
       "</tr>\n",
       "<tr>\n",
       "  <th>altitude</th>      <td>    0.0027</td> <td>    0.000</td> <td>   17.032</td> <td> 0.000</td> <td>    0.002</td> <td>    0.003</td>\n",
       "</tr>\n",
       "<tr>\n",
       "  <th>nhwrate</th>       <td>    4.5637</td> <td>    0.375</td> <td>   12.156</td> <td> 0.000</td> <td>    3.828</td> <td>    5.300</td>\n",
       "</tr>\n",
       "<tr>\n",
       "  <th>mormon</th>        <td>   -0.0008</td> <td>    0.002</td> <td>   -0.450</td> <td> 0.653</td> <td>   -0.004</td> <td>    0.003</td>\n",
       "</tr>\n",
       "<tr>\n",
       "  <th>state_mormon</th>  <td>    9.2362</td> <td>    2.032</td> <td>    4.546</td> <td> 0.000</td> <td>    5.252</td> <td>   13.220</td>\n",
       "</tr>\n",
       "<tr>\n",
       "  <th>income_census</th> <td>   -4.7704</td> <td>    0.322</td> <td>  -14.795</td> <td> 0.000</td> <td>   -5.403</td> <td>   -4.138</td>\n",
       "</tr>\n",
       "<tr>\n",
       "  <th>nativerate</th>    <td>   33.6435</td> <td>    1.032</td> <td>   32.616</td> <td> 0.000</td> <td>   31.621</td> <td>   35.666</td>\n",
       "</tr>\n",
       "</table>\n",
       "<table class=\"simpletable\">\n",
       "<tr>\n",
       "  <th>Omnibus:</th>       <td>1174.317</td> <th>  Durbin-Watson:     </th> <td>   1.483</td> \n",
       "</tr>\n",
       "<tr>\n",
       "  <th>Prob(Omnibus):</th>  <td> 0.000</td>  <th>  Jarque-Bera (JB):  </th> <td>16019.003</td>\n",
       "</tr>\n",
       "<tr>\n",
       "  <th>Skew:</th>           <td> 1.397</td>  <th>  Prob(JB):          </th> <td>    0.00</td> \n",
       "</tr>\n",
       "<tr>\n",
       "  <th>Kurtosis:</th>       <td>13.732</td>  <th>  Cond. No.          </th> <td>3.04e+04</td> \n",
       "</tr>\n",
       "</table><br/><br/>Warnings:<br/>[1] Standard Errors assume that the covariance matrix of the errors is correctly specified.<br/>[2] The condition number is large, 3.04e+04. This might indicate that there are<br/>strong multicollinearity or other numerical problems."
      ],
      "text/plain": [
       "<class 'statsmodels.iolib.summary.Summary'>\n",
       "\"\"\"\n",
       "                            OLS Regression Results                            \n",
       "==============================================================================\n",
       "Dep. Variable:      mortality_self_ha   R-squared:                       0.413\n",
       "Model:                            OLS   Adj. R-squared:                  0.412\n",
       "Method:                 Least Squares   F-statistic:                     366.1\n",
       "Date:                Sun, 23 Dec 2018   Prob (F-statistic):               0.00\n",
       "Time:                        21:57:34   Log-Likelihood:                -8648.5\n",
       "No. Observations:                3126   AIC:                         1.731e+04\n",
       "Df Residuals:                    3119   BIC:                         1.735e+04\n",
       "Df Model:                           6                                         \n",
       "Covariance Type:            nonrobust                                         \n",
       "=================================================================================\n",
       "                    coef    std err          t      P>|t|      [0.025      0.975]\n",
       "---------------------------------------------------------------------------------\n",
       "Intercept        58.3918      3.177     18.380      0.000      52.163      64.621\n",
       "altitude          0.0027      0.000     17.032      0.000       0.002       0.003\n",
       "nhwrate           4.5637      0.375     12.156      0.000       3.828       5.300\n",
       "mormon           -0.0008      0.002     -0.450      0.653      -0.004       0.003\n",
       "state_mormon      9.2362      2.032      4.546      0.000       5.252      13.220\n",
       "income_census    -4.7704      0.322    -14.795      0.000      -5.403      -4.138\n",
       "nativerate       33.6435      1.032     32.616      0.000      31.621      35.666\n",
       "==============================================================================\n",
       "Omnibus:                     1174.317   Durbin-Watson:                   1.483\n",
       "Prob(Omnibus):                  0.000   Jarque-Bera (JB):            16019.003\n",
       "Skew:                           1.397   Prob(JB):                         0.00\n",
       "Kurtosis:                      13.732   Cond. No.                     3.04e+04\n",
       "==============================================================================\n",
       "\n",
       "Warnings:\n",
       "[1] Standard Errors assume that the covariance matrix of the errors is correctly specified.\n",
       "[2] The condition number is large, 3.04e+04. This might indicate that there are\n",
       "strong multicollinearity or other numerical problems.\n",
       "\"\"\""
      ]
     },
     "execution_count": 14,
     "metadata": {},
     "output_type": "execute_result"
    }
   ],
   "source": [
    "smf.ols(\n",
    "    \"mortality_self_ha~altitude+nhwrate+mormon+state_mormon+income_census+nativerate\",\n",
    "    data=data,\n",
    ").fit().summary()"
   ]
  }
 ],
 "metadata": {
  "kernelspec": {
   "display_name": "PyEnv",
   "language": "python",
   "name": "pyenv"
  },
  "language_info": {
   "codemirror_mode": {
    "name": "ipython",
    "version": 3
   },
   "file_extension": ".py",
   "mimetype": "text/x-python",
   "name": "python",
   "nbconvert_exporter": "python",
   "pygments_lexer": "ipython3",
   "version": "3.6.7"
  }
 },
 "nbformat": 4,
 "nbformat_minor": 2
}
