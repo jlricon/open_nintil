{
 "cells": [
  {
   "cell_type": "code",
   "execution_count": 1,
   "metadata": {},
   "outputs": [
    {
     "data": {
      "application/javascript": [
       "\n",
       "            setTimeout(function() {\n",
       "                var nbb_cell_id = 1;\n",
       "                var nbb_unformatted_code = \"import pandas as pd\\nimport matplotlib.pyplot as plt\\n\\n%load_ext nb_black\";\n",
       "                var nbb_formatted_code = \"import pandas as pd\\nimport matplotlib.pyplot as plt\\n\\n%load_ext nb_black\";\n",
       "                var nbb_cells = Jupyter.notebook.get_cells();\n",
       "                for (var i = 0; i < nbb_cells.length; ++i) {\n",
       "                    if (nbb_cells[i].input_prompt_number == nbb_cell_id) {\n",
       "                        if (nbb_cells[i].get_text() == nbb_unformatted_code) {\n",
       "                             nbb_cells[i].set_text(nbb_formatted_code);\n",
       "                        }\n",
       "                        break;\n",
       "                    }\n",
       "                }\n",
       "            }, 500);\n",
       "            "
      ],
      "text/plain": [
       "<IPython.core.display.Javascript object>"
      ]
     },
     "metadata": {},
     "output_type": "display_data"
    }
   ],
   "source": [
    "import pandas as pd\n",
    "import matplotlib.pyplot as plt\n",
    "\n",
    "%load_ext nb_black"
   ]
  },
  {
   "cell_type": "code",
   "execution_count": 2,
   "metadata": {},
   "outputs": [
    {
     "data": {
      "application/javascript": [
       "\n",
       "            setTimeout(function() {\n",
       "                var nbb_cell_id = 2;\n",
       "                var nbb_unformatted_code = \"citations = pd.read_csv(\\\"grants.csv\\\")[[\\\"person_id\\\", \\\"gr_num\\\", \\\"RCR\\\"]]\";\n",
       "                var nbb_formatted_code = \"citations = pd.read_csv(\\\"grants.csv\\\")[[\\\"person_id\\\", \\\"gr_num\\\", \\\"RCR\\\"]]\";\n",
       "                var nbb_cells = Jupyter.notebook.get_cells();\n",
       "                for (var i = 0; i < nbb_cells.length; ++i) {\n",
       "                    if (nbb_cells[i].input_prompt_number == nbb_cell_id) {\n",
       "                        if (nbb_cells[i].get_text() == nbb_unformatted_code) {\n",
       "                             nbb_cells[i].set_text(nbb_formatted_code);\n",
       "                        }\n",
       "                        break;\n",
       "                    }\n",
       "                }\n",
       "            }, 500);\n",
       "            "
      ],
      "text/plain": [
       "<IPython.core.display.Javascript object>"
      ]
     },
     "metadata": {},
     "output_type": "display_data"
    }
   ],
   "source": [
    "citations = pd.read_csv(\"grants.csv\")[[\"person_id\", \"gr_num\", \"RCR\"]]"
   ]
  },
  {
   "cell_type": "code",
   "execution_count": 3,
   "metadata": {},
   "outputs": [
    {
     "data": {
      "application/javascript": [
       "\n",
       "            setTimeout(function() {\n",
       "                var nbb_cell_id = 3;\n",
       "                var nbb_unformatted_code = \"data = pd.read_csv(\\\"data.csv\\\").query(\\\"sp!=1\\\")[\\n    [\\\"person_id\\\", \\\"fy\\\", \\\"gr_num\\\", \\\"point\\\", \\\"total_awd_amt_adj\\\"]\\n]\";\n",
       "                var nbb_formatted_code = \"data = pd.read_csv(\\\"data.csv\\\").query(\\\"sp!=1\\\")[\\n    [\\\"person_id\\\", \\\"fy\\\", \\\"gr_num\\\", \\\"point\\\", \\\"total_awd_amt_adj\\\"]\\n]\";\n",
       "                var nbb_cells = Jupyter.notebook.get_cells();\n",
       "                for (var i = 0; i < nbb_cells.length; ++i) {\n",
       "                    if (nbb_cells[i].input_prompt_number == nbb_cell_id) {\n",
       "                        if (nbb_cells[i].get_text() == nbb_unformatted_code) {\n",
       "                             nbb_cells[i].set_text(nbb_formatted_code);\n",
       "                        }\n",
       "                        break;\n",
       "                    }\n",
       "                }\n",
       "            }, 500);\n",
       "            "
      ],
      "text/plain": [
       "<IPython.core.display.Javascript object>"
      ]
     },
     "metadata": {},
     "output_type": "display_data"
    }
   ],
   "source": [
    "# Not counting subprojects here, they have 0 funding for the specific PI\n",
    "data = pd.read_csv(\"data.csv\").query(\"sp!=1\")[\n",
    "    [\"person_id\", \"fy\", \"gr_num\", \"point\", \"total_awd_amt_adj\"]\n",
    "]"
   ]
  },
  {
   "cell_type": "code",
   "execution_count": 4,
   "metadata": {},
   "outputs": [
    {
     "data": {
      "application/javascript": [
       "\n",
       "            setTimeout(function() {\n",
       "                var nbb_cell_id = 4;\n",
       "                var nbb_unformatted_code = \"grant_to_various_rcr = (\\n    citations.assign(\\n        RCR_mean=lambda x: x.RCR, RCR_sum=lambda x: x.RCR, RCR_max=lambda x: x.RCR\\n    )\\n    .groupby(\\\"gr_num\\\")\\n    .aggregate({\\\"RCR_mean\\\": \\\"mean\\\", \\\"RCR_max\\\": \\\"max\\\", \\\"RCR_sum\\\": \\\"sum\\\"})\\n    .reset_index()\\n)\";\n",
       "                var nbb_formatted_code = \"grant_to_various_rcr = (\\n    citations.assign(\\n        RCR_mean=lambda x: x.RCR, RCR_sum=lambda x: x.RCR, RCR_max=lambda x: x.RCR\\n    )\\n    .groupby(\\\"gr_num\\\")\\n    .aggregate({\\\"RCR_mean\\\": \\\"mean\\\", \\\"RCR_max\\\": \\\"max\\\", \\\"RCR_sum\\\": \\\"sum\\\"})\\n    .reset_index()\\n)\";\n",
       "                var nbb_cells = Jupyter.notebook.get_cells();\n",
       "                for (var i = 0; i < nbb_cells.length; ++i) {\n",
       "                    if (nbb_cells[i].input_prompt_number == nbb_cell_id) {\n",
       "                        if (nbb_cells[i].get_text() == nbb_unformatted_code) {\n",
       "                             nbb_cells[i].set_text(nbb_formatted_code);\n",
       "                        }\n",
       "                        break;\n",
       "                    }\n",
       "                }\n",
       "            }, 500);\n",
       "            "
      ],
      "text/plain": [
       "<IPython.core.display.Javascript object>"
      ]
     },
     "metadata": {},
     "output_type": "display_data"
    }
   ],
   "source": [
    "grant_to_various_rcr = (\n",
    "    citations.assign(\n",
    "        RCR_mean=lambda x: x.RCR, RCR_sum=lambda x: x.RCR, RCR_max=lambda x: x.RCR\n",
    "    )\n",
    "    .groupby(\"gr_num\")\n",
    "    .aggregate({\"RCR_mean\": \"mean\", \"RCR_max\": \"max\", \"RCR_sum\": \"sum\"})\n",
    "    .reset_index()\n",
    ")"
   ]
  },
  {
   "cell_type": "code",
   "execution_count": 5,
   "metadata": {},
   "outputs": [
    {
     "data": {
      "application/javascript": [
       "\n",
       "            setTimeout(function() {\n",
       "                var nbb_cell_id = 5;\n",
       "                var nbb_unformatted_code = \"grant_to_rcr = pd.merge(data, grant_to_various_rcr, how=\\\"left\\\").fillna(0)\";\n",
       "                var nbb_formatted_code = \"grant_to_rcr = pd.merge(data, grant_to_various_rcr, how=\\\"left\\\").fillna(0)\";\n",
       "                var nbb_cells = Jupyter.notebook.get_cells();\n",
       "                for (var i = 0; i < nbb_cells.length; ++i) {\n",
       "                    if (nbb_cells[i].input_prompt_number == nbb_cell_id) {\n",
       "                        if (nbb_cells[i].get_text() == nbb_unformatted_code) {\n",
       "                             nbb_cells[i].set_text(nbb_formatted_code);\n",
       "                        }\n",
       "                        break;\n",
       "                    }\n",
       "                }\n",
       "            }, 500);\n",
       "            "
      ],
      "text/plain": [
       "<IPython.core.display.Javascript object>"
      ]
     },
     "metadata": {},
     "output_type": "display_data"
    }
   ],
   "source": [
    "grant_to_rcr = pd.merge(data, grant_to_various_rcr, how=\"left\").fillna(0)"
   ]
  },
  {
   "cell_type": "code",
   "execution_count": 132,
   "metadata": {},
   "outputs": [
    {
     "data": {
      "application/javascript": [
       "\n",
       "            setTimeout(function() {\n",
       "                var nbb_cell_id = 132;\n",
       "                var nbb_unformatted_code = \"# Max impactful work funded by a scientist on one given year\\nt = grant_to_rcr.groupby([\\\"person_id\\\", \\\"fy\\\"]).aggregate(\\n    {\\\"RCR_max\\\": \\\"max\\\", \\\"total_awd_amt_adj\\\": \\\"sum\\\"}\\n)\\n# median funding\\nTOL=0.1\\nN_REPEATS=50000\\nresearchers_funded_around_median = t[\\n    (t.total_awd_amt_adj < (median_funding *(1+TOL)))\\n    & (t.total_awd_amt_adj > (median_funding *(1-TOL)))\\n]\\ndef get_researchers_x_median(x):\\n    median_funding = t.total_awd_amt_adj.median()\\n    n_times_m = x * median_funding\\n    researchers_highly_funded = t[\\n        (t.total_awd_amt_adj < (n_times_m *(1+TOL)))\\n        & (t.total_awd_amt_adj > (n_times_m *(1-TOL)))\\n    ]\\n    return researchers_highly_funded\\ndef get_diff_for_x_median(x):\\n#     samples = []\\n    researchers_highly_funded = get_researchers_x_median(x)\\n    high_RCR=researchers_highly_funded.sample(N_REPEATS,replace=True).RCR_max.values\\n    low_RCR=researchers_funded_around_median.sample(N_REPEATS*x,replace=True).RCR_max.values.reshape(\\n        (N_REPEATS, x)\\n    ).max(axis=1)\\n    #samples=high_RCR-low_RCR\\n#     for i in range(20000):\\n        # Take one highly funded researcher's max RCR\\n#         high_RCR = researchers_highly_funded.sample(1).RCR_max.values[0]\\n#         # Take two low funded researcher's max RCR\\n#         low_RCR = researchers_funded_around_mean.sample(x).RCR_max.max()\\n        # Take diff\\n#         samples.append(high_RCR - low_RCR)\\n    return high_RCR,low_RCR\";\n",
       "                var nbb_formatted_code = \"# Max impactful work funded by a scientist on one given year\\nt = grant_to_rcr.groupby([\\\"person_id\\\", \\\"fy\\\"]).aggregate(\\n    {\\\"RCR_max\\\": \\\"max\\\", \\\"total_awd_amt_adj\\\": \\\"sum\\\"}\\n)\\n# median funding\\nTOL = 0.1\\nN_REPEATS = 50000\\nresearchers_funded_around_median = t[\\n    (t.total_awd_amt_adj < (median_funding * (1 + TOL)))\\n    & (t.total_awd_amt_adj > (median_funding * (1 - TOL)))\\n]\\n\\n\\ndef get_researchers_x_median(x):\\n    median_funding = t.total_awd_amt_adj.median()\\n    n_times_m = x * median_funding\\n    researchers_highly_funded = t[\\n        (t.total_awd_amt_adj < (n_times_m * (1 + TOL)))\\n        & (t.total_awd_amt_adj > (n_times_m * (1 - TOL)))\\n    ]\\n    return researchers_highly_funded\\n\\n\\ndef get_diff_for_x_median(x):\\n    #     samples = []\\n    researchers_highly_funded = get_researchers_x_median(x)\\n    high_RCR = researchers_highly_funded.sample(N_REPEATS, replace=True).RCR_max.values\\n    low_RCR = (\\n        researchers_funded_around_median.sample(N_REPEATS * x, replace=True)\\n        .RCR_max.values.reshape((N_REPEATS, x))\\n        .max(axis=1)\\n    )\\n    # samples=high_RCR-low_RCR\\n    #     for i in range(20000):\\n    # Take one highly funded researcher's max RCR\\n    #         high_RCR = researchers_highly_funded.sample(1).RCR_max.values[0]\\n    #         # Take two low funded researcher's max RCR\\n    #         low_RCR = researchers_funded_around_mean.sample(x).RCR_max.max()\\n    # Take diff\\n    #         samples.append(high_RCR - low_RCR)\\n    return high_RCR, low_RCR\";\n",
       "                var nbb_cells = Jupyter.notebook.get_cells();\n",
       "                for (var i = 0; i < nbb_cells.length; ++i) {\n",
       "                    if (nbb_cells[i].input_prompt_number == nbb_cell_id) {\n",
       "                        if (nbb_cells[i].get_text() == nbb_unformatted_code) {\n",
       "                             nbb_cells[i].set_text(nbb_formatted_code);\n",
       "                        }\n",
       "                        break;\n",
       "                    }\n",
       "                }\n",
       "            }, 500);\n",
       "            "
      ],
      "text/plain": [
       "<IPython.core.display.Javascript object>"
      ]
     },
     "metadata": {},
     "output_type": "display_data"
    }
   ],
   "source": [
    "# Max impactful work funded by a scientist on one given year\n",
    "t = grant_to_rcr.groupby([\"person_id\", \"fy\"]).aggregate(\n",
    "    {\"RCR_max\": \"max\", \"total_awd_amt_adj\": \"sum\"}\n",
    ")\n",
    "# median funding\n",
    "TOL=0.1\n",
    "N_REPEATS=50000\n",
    "researchers_funded_around_median = t[\n",
    "    (t.total_awd_amt_adj < (median_funding *(1+TOL)))\n",
    "    & (t.total_awd_amt_adj > (median_funding *(1-TOL)))\n",
    "]\n",
    "def get_researchers_x_median(x):\n",
    "    median_funding = t.total_awd_amt_adj.median()\n",
    "    n_times_m = x * median_funding\n",
    "    researchers_highly_funded = t[\n",
    "        (t.total_awd_amt_adj < (n_times_m *(1+TOL)))\n",
    "        & (t.total_awd_amt_adj > (n_times_m *(1-TOL)))\n",
    "    ]\n",
    "    return researchers_highly_funded\n",
    "def get_diff_for_x_median(x):\n",
    "#     samples = []\n",
    "    researchers_highly_funded = get_researchers_x_median(x)\n",
    "    high_RCR=researchers_highly_funded.sample(N_REPEATS,replace=True).RCR_max.values\n",
    "    low_RCR=researchers_funded_around_median.sample(N_REPEATS*x,replace=True).RCR_max.values.reshape(\n",
    "        (N_REPEATS, x)\n",
    "    ).max(axis=1)\n",
    "    #samples=high_RCR-low_RCR\n",
    "#     for i in range(20000):\n",
    "        # Take one highly funded researcher's max RCR\n",
    "#         high_RCR = researchers_highly_funded.sample(1).RCR_max.values[0]\n",
    "#         # Take two low funded researcher's max RCR\n",
    "#         low_RCR = researchers_funded_around_mean.sample(x).RCR_max.max()\n",
    "        # Take diff\n",
    "#         samples.append(high_RCR - low_RCR)\n",
    "    return high_RCR,low_RCR\n"
   ]
  },
  {
   "cell_type": "code",
   "execution_count": 155,
   "metadata": {},
   "outputs": [
    {
     "data": {
      "text/plain": [
       "299.71"
      ]
     },
     "execution_count": 155,
     "metadata": {},
     "output_type": "execute_result"
    },
    {
     "data": {
      "application/javascript": [
       "\n",
       "            setTimeout(function() {\n",
       "                var nbb_cell_id = 155;\n",
       "                var nbb_unformatted_code = \"researchers_funded_around_median.RCR_max.max()\";\n",
       "                var nbb_formatted_code = \"researchers_funded_around_median.RCR_max.max()\";\n",
       "                var nbb_cells = Jupyter.notebook.get_cells();\n",
       "                for (var i = 0; i < nbb_cells.length; ++i) {\n",
       "                    if (nbb_cells[i].input_prompt_number == nbb_cell_id) {\n",
       "                        if (nbb_cells[i].get_text() == nbb_unformatted_code) {\n",
       "                             nbb_cells[i].set_text(nbb_formatted_code);\n",
       "                        }\n",
       "                        break;\n",
       "                    }\n",
       "                }\n",
       "            }, 500);\n",
       "            "
      ],
      "text/plain": [
       "<IPython.core.display.Javascript object>"
      ]
     },
     "metadata": {},
     "output_type": "display_data"
    }
   ],
   "source": [
    "researchers_funded_around_median.RCR_max.max()"
   ]
  },
  {
   "cell_type": "code",
   "execution_count": 160,
   "metadata": {},
   "outputs": [
    {
     "data": {
      "text/plain": [
       "299.71"
      ]
     },
     "execution_count": 160,
     "metadata": {},
     "output_type": "execute_result"
    },
    {
     "data": {
      "application/javascript": [
       "\n",
       "            setTimeout(function() {\n",
       "                var nbb_cell_id = 160;\n",
       "                var nbb_unformatted_code = \"get_diff_for_x_median(2)[1].max()\";\n",
       "                var nbb_formatted_code = \"get_diff_for_x_median(2)[1].max()\";\n",
       "                var nbb_cells = Jupyter.notebook.get_cells();\n",
       "                for (var i = 0; i < nbb_cells.length; ++i) {\n",
       "                    if (nbb_cells[i].input_prompt_number == nbb_cell_id) {\n",
       "                        if (nbb_cells[i].get_text() == nbb_unformatted_code) {\n",
       "                             nbb_cells[i].set_text(nbb_formatted_code);\n",
       "                        }\n",
       "                        break;\n",
       "                    }\n",
       "                }\n",
       "            }, 500);\n",
       "            "
      ],
      "text/plain": [
       "<IPython.core.display.Javascript object>"
      ]
     },
     "metadata": {},
     "output_type": "display_data"
    }
   ],
   "source": [
    "get_diff_for_x_median(2)[1].max()"
   ]
  },
  {
   "cell_type": "code",
   "execution_count": 133,
   "metadata": {},
   "outputs": [
    {
     "name": "stdout",
     "output_type": "stream",
     "text": [
      "count    50000.000000\n",
      "mean         0.354004\n",
      "std         18.950542\n",
      "min       -297.740000\n",
      "25%         -4.900000\n",
      "50%         -0.150000\n",
      "75%          5.132500\n",
      "max        289.080000\n",
      "dtype: float64\n",
      "0.5096\n"
     ]
    },
    {
     "data": {
      "application/javascript": [
       "\n",
       "            setTimeout(function() {\n",
       "                var nbb_cell_id = 133;\n",
       "                var nbb_unformatted_code = \"samples = get_diff_for_x_median(2)\\nsamples = samples[0] - samples[1]\\nk = pd.Series(samples)\\nprint(k.describe())\\n# A positive value means an advantage for the highly funded researcher\\nprint(k[k < 0].count() / N_REPEATS)\";\n",
       "                var nbb_formatted_code = \"samples = get_diff_for_x_median(2)\\nsamples = samples[0] - samples[1]\\nk = pd.Series(samples)\\nprint(k.describe())\\n# A positive value means an advantage for the highly funded researcher\\nprint(k[k < 0].count() / N_REPEATS)\";\n",
       "                var nbb_cells = Jupyter.notebook.get_cells();\n",
       "                for (var i = 0; i < nbb_cells.length; ++i) {\n",
       "                    if (nbb_cells[i].input_prompt_number == nbb_cell_id) {\n",
       "                        if (nbb_cells[i].get_text() == nbb_unformatted_code) {\n",
       "                             nbb_cells[i].set_text(nbb_formatted_code);\n",
       "                        }\n",
       "                        break;\n",
       "                    }\n",
       "                }\n",
       "            }, 500);\n",
       "            "
      ],
      "text/plain": [
       "<IPython.core.display.Javascript object>"
      ]
     },
     "metadata": {},
     "output_type": "display_data"
    }
   ],
   "source": [
    "samples = get_diff_for_x_median(2)\n",
    "samples = samples[0] - samples[1]\n",
    "k = pd.Series(samples)\n",
    "print(k.describe())\n",
    "# A positive value means an advantage for the highly funded researcher\n",
    "print(k[k < 0].count() / N_REPEATS)"
   ]
  },
  {
   "cell_type": "code",
   "execution_count": 138,
   "metadata": {},
   "outputs": [
    {
     "data": {
      "text/plain": [
       "0        0.688337\n",
       "1        0.105687\n",
       "2        1.574257\n",
       "3        0.032529\n",
       "4        4.876855\n",
       "           ...   \n",
       "49995    1.013193\n",
       "49996    0.404607\n",
       "49997    7.792115\n",
       "49998    0.147155\n",
       "49999    0.138191\n",
       "Length: 48865, dtype: float64"
      ]
     },
     "execution_count": 138,
     "metadata": {},
     "output_type": "execute_result"
    },
    {
     "data": {
      "application/javascript": [
       "\n",
       "            setTimeout(function() {\n",
       "                var nbb_cell_id = 138;\n",
       "                var nbb_unformatted_code = \"# We are biased in favor of the highly fundd researchers as we are excluding those that led to 0 publications\\nhigh_low = (\\n    pd.DataFrame(get_diff_for_x_median(2))\\n    .transpose()\\n    .rename(columns={0: \\\"high\\\", 1: \\\"low\\\"})\\n)\\nhigh_low.query(\\\"high!=0\\\").eval(\\\"low/high\\\")\";\n",
       "                var nbb_formatted_code = \"# We are biased in favor of the highly fundd researchers as we are excluding those that led to 0 publications\\nhigh_low = (\\n    pd.DataFrame(get_diff_for_x_median(2))\\n    .transpose()\\n    .rename(columns={0: \\\"high\\\", 1: \\\"low\\\"})\\n)\\nhigh_low.query(\\\"high!=0\\\").eval(\\\"low/high\\\")\";\n",
       "                var nbb_cells = Jupyter.notebook.get_cells();\n",
       "                for (var i = 0; i < nbb_cells.length; ++i) {\n",
       "                    if (nbb_cells[i].input_prompt_number == nbb_cell_id) {\n",
       "                        if (nbb_cells[i].get_text() == nbb_unformatted_code) {\n",
       "                             nbb_cells[i].set_text(nbb_formatted_code);\n",
       "                        }\n",
       "                        break;\n",
       "                    }\n",
       "                }\n",
       "            }, 500);\n",
       "            "
      ],
      "text/plain": [
       "<IPython.core.display.Javascript object>"
      ]
     },
     "metadata": {},
     "output_type": "display_data"
    }
   ],
   "source": [
    "# We are biased in favor of the highly fundd researchers as we are excluding those that led to 0 publications\n",
    "high_low = (\n",
    "    pd.DataFrame(get_diff_for_x_median(2))\n",
    "    .transpose()\n",
    "    .rename(columns={0: \"high\", 1: \"low\"})\n",
    ")\n",
    "high_low.query(\"high!=0\").eval(\"low/high\").mean()"
   ]
  },
  {
   "cell_type": "code",
   "execution_count": 146,
   "metadata": {},
   "outputs": [
    {
     "data": {
      "text/plain": [
       "[<matplotlib.lines.Line2D at 0x286fefe50>]"
      ]
     },
     "execution_count": 146,
     "metadata": {},
     "output_type": "execute_result"
    },
    {
     "data": {
      "image/png": "[encoded data removed]",
      "text/plain": [
       "<Figure size 432x288 with 1 Axes>"
      ]
     },
     "metadata": {
      "needs_background": "light"
     },
     "output_type": "display_data"
    },
    {
     "data": {
      "application/javascript": [
       "\n",
       "            setTimeout(function() {\n",
       "                var nbb_cell_id = 146;\n",
       "                var nbb_unformatted_code = \"# The result is robust to doing 2x or 3x etc, sampling more is better\\nbla = []\\nfor i in range(2, 20):\\n    bla.append(\\n        pd.DataFrame(get_diff_for_x_median(i))\\n        .transpose()\\n        .rename(columns={0: \\\"high\\\", 1: \\\"low\\\"})\\n        .query(\\\"high!=0\\\")\\n        .eval(\\\"low/high\\\")\\n        .mean()\\n    )\\nplt.plot(range(2, 20), bla)\";\n",
       "                var nbb_formatted_code = \"# The result is robust to doing 2x or 3x etc, sampling more is better\\nbla = []\\nfor i in range(2, 20):\\n    bla.append(\\n        pd.DataFrame(get_diff_for_x_median(i))\\n        .transpose()\\n        .rename(columns={0: \\\"high\\\", 1: \\\"low\\\"})\\n        .query(\\\"high!=0\\\")\\n        .eval(\\\"low/high\\\")\\n        .mean()\\n    )\\nplt.plot(range(2, 20), bla)\";\n",
       "                var nbb_cells = Jupyter.notebook.get_cells();\n",
       "                for (var i = 0; i < nbb_cells.length; ++i) {\n",
       "                    if (nbb_cells[i].input_prompt_number == nbb_cell_id) {\n",
       "                        if (nbb_cells[i].get_text() == nbb_unformatted_code) {\n",
       "                             nbb_cells[i].set_text(nbb_formatted_code);\n",
       "                        }\n",
       "                        break;\n",
       "                    }\n",
       "                }\n",
       "            }, 500);\n",
       "            "
      ],
      "text/plain": [
       "<IPython.core.display.Javascript object>"
      ]
     },
     "metadata": {},
     "output_type": "display_data"
    }
   ],
   "source": [
    "# The result is robust to doing 2x or 3x etc. Increase after 7.5x median probably because of sampling a very small set that happens\n",
    "# to be highly cited\n",
    "bla = []\n",
    "for i in range(2, 20):\n",
    "    bla.append(\n",
    "        pd.DataFrame(get_diff_for_x_median(i))\n",
    "        .transpose()\n",
    "        .rename(columns={0: \"high\", 1: \"low\"})\n",
    "        .query(\"high!=0\")\n",
    "        .eval(\"low/high\")\n",
    "        .mean()\n",
    "    )\n",
    "plt.plot(range(2, 20), bla)"
   ]
  },
  {
   "cell_type": "code",
   "execution_count": 150,
   "metadata": {},
   "outputs": [
    {
     "data": {
      "text/plain": [
       "[<matplotlib.lines.Line2D at 0x286050610>]"
      ]
     },
     "execution_count": 150,
     "metadata": {},
     "output_type": "execute_result"
    },
    {
     "data": {
      "image/png": "[encoded data removed]",
      "text/plain": [
       "<Figure size 432x288 with 1 Axes>"
      ]
     },
     "metadata": {
      "needs_background": "light"
     },
     "output_type": "display_data"
    },
    {
     "data": {
      "application/javascript": [
       "\n",
       "            setTimeout(function() {\n",
       "                var nbb_cell_id = 150;\n",
       "                var nbb_unformatted_code = \"# Does sampling more in the median case leads to increasing mean? Yeah, more draws = better\\nbla = []\\nfor i in range(2, 20):\\n    bla.append(\\n        pd.DataFrame(get_diff_for_x_median(i))\\n        .transpose()\\n        .rename(columns={0: \\\"high\\\", 1: \\\"low\\\"})\\n        .low.mean()\\n    )\\nplt.plot(range(2, 20), bla)\";\n",
       "                var nbb_formatted_code = \"# Does sampling more in the median case leads to increasing mean? Yeah, more draws = better\\nbla = []\\nfor i in range(2, 20):\\n    bla.append(\\n        pd.DataFrame(get_diff_for_x_median(i))\\n        .transpose()\\n        .rename(columns={0: \\\"high\\\", 1: \\\"low\\\"})\\n        .low.mean()\\n    )\\nplt.plot(range(2, 20), bla)\";\n",
       "                var nbb_cells = Jupyter.notebook.get_cells();\n",
       "                for (var i = 0; i < nbb_cells.length; ++i) {\n",
       "                    if (nbb_cells[i].input_prompt_number == nbb_cell_id) {\n",
       "                        if (nbb_cells[i].get_text() == nbb_unformatted_code) {\n",
       "                             nbb_cells[i].set_text(nbb_formatted_code);\n",
       "                        }\n",
       "                        break;\n",
       "                    }\n",
       "                }\n",
       "            }, 500);\n",
       "            "
      ],
      "text/plain": [
       "<IPython.core.display.Javascript object>"
      ]
     },
     "metadata": {},
     "output_type": "display_data"
    }
   ],
   "source": [
    "# Does sampling more in the median case leads to increasing mean? Yeah, more draws = better\n",
    "bla = []\n",
    "for i in range(2, 20):\n",
    "    bla.append(\n",
    "        pd.DataFrame(get_diff_for_x_median(i))\n",
    "        .transpose()\n",
    "        .rename(columns={0: \"high\", 1: \"low\"})\n",
    "        .low.mean()\n",
    "    )\n",
    "plt.plot(range(2, 20), bla)"
   ]
  },
  {
   "cell_type": "code",
   "execution_count": 162,
   "metadata": {},
   "outputs": [
    {
     "data": {
      "text/plain": [
       "299.71"
      ]
     },
     "execution_count": 162,
     "metadata": {},
     "output_type": "execute_result"
    },
    {
     "data": {
      "application/javascript": [
       "\n",
       "            setTimeout(function() {\n",
       "                var nbb_cell_id = 162;\n",
       "                var nbb_unformatted_code = \"# Max RCR in the median\\nresearchers_funded_around_median.RCR_max.max()\";\n",
       "                var nbb_formatted_code = \"# Max RCR in the median\\nresearchers_funded_around_median.RCR_max.max()\";\n",
       "                var nbb_cells = Jupyter.notebook.get_cells();\n",
       "                for (var i = 0; i < nbb_cells.length; ++i) {\n",
       "                    if (nbb_cells[i].input_prompt_number == nbb_cell_id) {\n",
       "                        if (nbb_cells[i].get_text() == nbb_unformatted_code) {\n",
       "                             nbb_cells[i].set_text(nbb_formatted_code);\n",
       "                        }\n",
       "                        break;\n",
       "                    }\n",
       "                }\n",
       "            }, 500);\n",
       "            "
      ],
      "text/plain": [
       "<IPython.core.display.Javascript object>"
      ]
     },
     "metadata": {},
     "output_type": "display_data"
    }
   ],
   "source": [
    "# Max RCR in the median\n",
    "researchers_funded_around_median.RCR_max.max()"
   ]
  },
  {
   "cell_type": "code",
   "execution_count": 179,
   "metadata": {},
   "outputs": [
    {
     "data": {
      "text/plain": [
       "(0.0, 350.0)"
      ]
     },
     "execution_count": 179,
     "metadata": {},
     "output_type": "execute_result"
    },
    {
     "data": {
      "image/png": "[encoded data removed]",
      "text/plain": [
       "<Figure size 432x288 with 1 Axes>"
      ]
     },
     "metadata": {
      "needs_background": "light"
     },
     "output_type": "display_data"
    },
    {
     "data": {
      "application/javascript": [
       "\n",
       "            setTimeout(function() {\n",
       "                var nbb_cell_id = 179;\n",
       "                var nbb_unformatted_code = \"t.plot.scatter(\\\"total_awd_amt_adj\\\", \\\"RCR_max\\\")\\n# plt.xscale(\\\"log\\\")\\n# plt.yscale(\\\"log\\\")\\nplt.ylim([0, 350])\";\n",
       "                var nbb_formatted_code = \"t.plot.scatter(\\\"total_awd_amt_adj\\\", \\\"RCR_max\\\")\\n# plt.xscale(\\\"log\\\")\\n# plt.yscale(\\\"log\\\")\\nplt.ylim([0, 350])\";\n",
       "                var nbb_cells = Jupyter.notebook.get_cells();\n",
       "                for (var i = 0; i < nbb_cells.length; ++i) {\n",
       "                    if (nbb_cells[i].input_prompt_number == nbb_cell_id) {\n",
       "                        if (nbb_cells[i].get_text() == nbb_unformatted_code) {\n",
       "                             nbb_cells[i].set_text(nbb_formatted_code);\n",
       "                        }\n",
       "                        break;\n",
       "                    }\n",
       "                }\n",
       "            }, 500);\n",
       "            "
      ],
      "text/plain": [
       "<IPython.core.display.Javascript object>"
      ]
     },
     "metadata": {},
     "output_type": "display_data"
    }
   ],
   "source": [
    "t.plot.scatter(\"total_awd_amt_adj\", \"RCR_max\")\n",
    "# plt.xscale(\"log\")\n",
    "# plt.yscale(\"log\")\n",
    "plt.ylim([0, 350])"
   ]
  },
  {
   "cell_type": "code",
   "execution_count": 202,
   "metadata": {},
   "outputs": [
    {
     "data": {
      "text/plain": [
       "Text(0, 0.5, 'Median funding for PI-year in that quantile (adj. M$)')"
      ]
     },
     "execution_count": 202,
     "metadata": {},
     "output_type": "execute_result"
    },
    {
     "data": {
      "image/png": "[encoded data removed]",
      "text/plain": [
       "<Figure size 432x288 with 1 Axes>"
      ]
     },
     "metadata": {
      "needs_background": "light"
     },
     "output_type": "display_data"
    },
    {
     "data": {
      "application/javascript": [
       "\n",
       "            setTimeout(function() {\n",
       "                var nbb_cell_id = 202;\n",
       "                var nbb_unformatted_code = \"quants = [0, 0.25, 0.50, 0.75, 0.90, 0.95, 0.99, 0.999, 0.9999]\\nres = [t[t.RCR_max > t.RCR_max.quantile(q)].total_awd_amt_adj.median() for q in quants]\\nplt.plot(quants, res, marker=\\\"o\\\")\\nplt.xlabel(\\\"Upper x quantile\\\")\\nplt.ylabel(\\\"Median funding for PI-year in that quantile (adj. M$)\\\")\";\n",
       "                var nbb_formatted_code = \"quants = [0, 0.25, 0.50, 0.75, 0.90, 0.95, 0.99, 0.999, 0.9999]\\nres = [t[t.RCR_max > t.RCR_max.quantile(q)].total_awd_amt_adj.median() for q in quants]\\nplt.plot(quants, res, marker=\\\"o\\\")\\nplt.xlabel(\\\"Upper x quantile\\\")\\nplt.ylabel(\\\"Median funding for PI-year in that quantile (adj. M$)\\\")\";\n",
       "                var nbb_cells = Jupyter.notebook.get_cells();\n",
       "                for (var i = 0; i < nbb_cells.length; ++i) {\n",
       "                    if (nbb_cells[i].input_prompt_number == nbb_cell_id) {\n",
       "                        if (nbb_cells[i].get_text() == nbb_unformatted_code) {\n",
       "                             nbb_cells[i].set_text(nbb_formatted_code);\n",
       "                        }\n",
       "                        break;\n",
       "                    }\n",
       "                }\n",
       "            }, 500);\n",
       "            "
      ],
      "text/plain": [
       "<IPython.core.display.Javascript object>"
      ]
     },
     "metadata": {},
     "output_type": "display_data"
    }
   ],
   "source": [
    "quants = [0, 0.25, 0.50, 0.75, 0.90, 0.95, 0.99, 0.999, 0.9999]\n",
    "res = [t[t.RCR_max > t.RCR_max.quantile(q)].total_awd_amt_adj.median() for q in quants]\n",
    "plt.plot(quants, res, marker=\"o\")\n",
    "plt.xlabel(\"Upper x quantile\")\n",
    "plt.ylabel(\"Median funding for PI-year in that quantile (adj. M$)\")"
   ]
  },
  {
   "cell_type": "code",
   "execution_count": 249,
   "metadata": {},
   "outputs": [
    {
     "data": {
      "text/plain": [
       "Text(0, 0.5, 'Number of papers in the top ')"
      ]
     },
     "execution_count": 249,
     "metadata": {},
     "output_type": "execute_result"
    },
    {
     "data": {
      "image/png": "[encoded data removed]",
      "text/plain": [
       "<Figure size 432x288 with 1 Axes>"
      ]
     },
     "metadata": {
      "needs_background": "light"
     },
     "output_type": "display_data"
    },
    {
     "data": {
      "application/javascript": [
       "\n",
       "            setTimeout(function() {\n",
       "                var nbb_cell_id = 249;\n",
       "                var nbb_unformatted_code = \"# Top 1%\\ntop=t.RCR_max.quantile(0.99)\\nquants = [0.4,0.5,0.6,0.7,0.8,0.9,1,2,3,4,5,6]\\nres = [t.query(\\\"total_awd_amt_adj<@q\\\").sample(100000, replace=True).query(\\\"RCR_max>@top\\\").count().RCR_max for q in quants]\\nplt.plot(quants, res, marker=\\\"o\\\")\\nplt.xlabel(\\\"Funding cap (M$)\\\")\\nplt.ylabel(\\\"Number of papers in the top \\\")\";\n",
       "                var nbb_formatted_code = \"# Top 1%\\ntop = t.RCR_max.quantile(0.99)\\nquants = [0.4, 0.5, 0.6, 0.7, 0.8, 0.9, 1, 2, 3, 4, 5, 6]\\nres = [\\n    t.query(\\\"total_awd_amt_adj<@q\\\")\\n    .sample(100000, replace=True)\\n    .query(\\\"RCR_max>@top\\\")\\n    .count()\\n    .RCR_max\\n    for q in quants\\n]\\nplt.plot(quants, res, marker=\\\"o\\\")\\nplt.xlabel(\\\"Funding cap (M$)\\\")\\nplt.ylabel(\\\"Number of papers in the top \\\")\";\n",
       "                var nbb_cells = Jupyter.notebook.get_cells();\n",
       "                for (var i = 0; i < nbb_cells.length; ++i) {\n",
       "                    if (nbb_cells[i].input_prompt_number == nbb_cell_id) {\n",
       "                        if (nbb_cells[i].get_text() == nbb_unformatted_code) {\n",
       "                             nbb_cells[i].set_text(nbb_formatted_code);\n",
       "                        }\n",
       "                        break;\n",
       "                    }\n",
       "                }\n",
       "            }, 500);\n",
       "            "
      ],
      "text/plain": [
       "<IPython.core.display.Javascript object>"
      ]
     },
     "metadata": {},
     "output_type": "display_data"
    }
   ],
   "source": [
    "# Top 1%\n",
    "top=t.RCR_max.quantile(0.99)\n",
    "quants = [0.4,0.5,0.6,0.7,0.8,0.9,1,2,3,4,5,6]\n",
    "res = [t.query(\"total_awd_amt_adj<@q\").sample(100000, replace=True).query(\"RCR_max>@top\").count().RCR_max for q in quants]\n",
    "plt.plot(quants, res, marker=\"o\")\n",
    "plt.xlabel(\"Funding cap (M$)\")\n",
    "plt.ylabel(\"Number of papers in the top \")\n"
   ]
  },
  {
   "cell_type": "code",
   "execution_count": 284,
   "metadata": {},
   "outputs": [
    {
     "name": "stdout",
     "output_type": "stream",
     "text": [
      "1.2208161955234904\n"
     ]
    },
    {
     "data": {
      "application/javascript": [
       "\n",
       "            setTimeout(function() {\n",
       "                var nbb_cell_id = 284;\n",
       "                var nbb_unformatted_code = \"k = 2\\nN_SAMPLES = 50000\\ntop = t.RCR_max.quantile(0.99)\\nres = []\\nfor _ in range(100):\\n    at_2x = get_researchers_x_median(k).RCR_max.sample(N_SAMPLES, replace=True)\\n    at_median = researchers_funded_around_median.RCR_max.sample(\\n        N_SAMPLES * k, replace=True\\n    )\\n    res.append(at_2x[at_2x > top].count() / at_median[at_median > top].count())\\n# print(f\\\"The highly funded group gets {at_2x[at_2x > top].count()}\\\")\\n# print(f\\\"The low funded group gets {at_median[at_median > top].count()}\\\")\\nprint(sum(res) / len(res))\";\n",
       "                var nbb_formatted_code = \"k = 2\\nN_SAMPLES = 50000\\ntop = t.RCR_max.quantile(0.99)\\nres = []\\nfor _ in range(100):\\n    at_2x = get_researchers_x_median(k).RCR_max.sample(N_SAMPLES, replace=True)\\n    at_median = researchers_funded_around_median.RCR_max.sample(\\n        N_SAMPLES * k, replace=True\\n    )\\n    res.append(at_2x[at_2x > top].count() / at_median[at_median > top].count())\\n# print(f\\\"The highly funded group gets {at_2x[at_2x > top].count()}\\\")\\n# print(f\\\"The low funded group gets {at_median[at_median > top].count()}\\\")\\nprint(sum(res) / len(res))\";\n",
       "                var nbb_cells = Jupyter.notebook.get_cells();\n",
       "                for (var i = 0; i < nbb_cells.length; ++i) {\n",
       "                    if (nbb_cells[i].input_prompt_number == nbb_cell_id) {\n",
       "                        if (nbb_cells[i].get_text() == nbb_unformatted_code) {\n",
       "                             nbb_cells[i].set_text(nbb_formatted_code);\n",
       "                        }\n",
       "                        break;\n",
       "                    }\n",
       "                }\n",
       "            }, 500);\n",
       "            "
      ],
      "text/plain": [
       "<IPython.core.display.Javascript object>"
      ]
     },
     "metadata": {},
     "output_type": "display_data"
    }
   ],
   "source": [
    "k = 2\n",
    "N_SAMPLES = 50000\n",
    "top = t.RCR_max.quantile(0.99)\n",
    "res = []\n",
    "for _ in range(100):\n",
    "    at_2x = get_researchers_x_median(k).RCR_max.sample(N_SAMPLES, replace=True)\n",
    "    at_median = researchers_funded_around_median.RCR_max.sample(\n",
    "        N_SAMPLES * k, replace=True\n",
    "    )\n",
    "    res.append(at_2x[at_2x > top].count() / at_median[at_median > top].count())\n",
    "# print(f\"The highly funded group gets {at_2x[at_2x > top].count()}\")\n",
    "# print(f\"The low funded group gets {at_median[at_median > top].count()}\")\n",
    "print(sum(res) / len(res))"
   ]
  },
  {
   "cell_type": "code",
   "execution_count": null,
   "metadata": {},
   "outputs": [],
   "source": []
  }
 ],
 "metadata": {
  "kernelspec": {
   "display_name": "Python 3.9.1 64-bit ('env': venv)",
   "language": "python",
   "name": "python39164bitenvvenvedbf28ec82204eb883e35e4d0d5a0d2f"
  },
  "language_info": {
   "codemirror_mode": {
    "name": "ipython",
    "version": 3
   },
   "file_extension": ".py",
   "mimetype": "text/x-python",
   "name": "python",
   "nbconvert_exporter": "python",
   "pygments_lexer": "ipython3",
   "version": "3.9.1"
  }
 },
 "nbformat": 4,
 "nbformat_minor": 4
}
