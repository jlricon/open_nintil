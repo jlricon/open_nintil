{
 "cells": [
  {
   "cell_type": "code",
   "execution_count": 1,
   "id": "99aca029",
   "metadata": {},
   "outputs": [
    {
     "data": {
      "text/plain": [
       "True"
      ]
     },
     "execution_count": 1,
     "metadata": {},
     "output_type": "execute_result"
    }
   ],
   "source": [
    "from dotenv import load_dotenv\n",
    "import os\n",
    "import random\n",
    "import itertools\n",
    "import asyncio\n",
    "import openai\n",
    "load_dotenv()\n",
    "oai_key=os.getenv(\"OPENAI_KEY\")\n",
    "openai.api_key = oai_key\n",
    "from concurrent.futures import ThreadPoolExecutor"
   ]
  },
  {
   "cell_type": "code",
   "execution_count": 79,
   "id": "54cec86b",
   "metadata": {},
   "outputs": [
    {
     "name": "stdout",
     "output_type": "stream",
     "text": [
      "[\"There once was a potato who dreamed of flying. Every day, it would watch the birds soaring through the sky and longed to join them. One day, it decided to take the leap and try to fly. Unfortunately, potatoes can't fly. The potato crashed to the ground and was never seen again.\", 'A flying car is a vehicle that can fly and drive on the ground. It is a type of aircraft that is powered by both an airplane engine and a car engine. The first flying car was invented in 1917 by American inventor Charles Kettering.']\n"
     ]
    }
   ],
   "source": [
    "async def call_model(prompt:str,max_tokens:int=256,temp:float=0):\n",
    "    completion = openai.Completion.create(engine=\"text-davinci-002\",temperature=temp,max_tokens=max_tokens, prompt=prompt)\n",
    "\n",
    "    # print the completion\n",
    "    return completion.choices[0].text.strip(\"\\n\")\n",
    "\n",
    "prompt=\"What is 2+2?\"\n",
    "with ThreadPoolExecutor() as p:\n",
    "    tasks=[call_model(\"Tell me a story about a flying potato\"),\n",
    "          call_model(\"Tell me a story about a flying car\")]\n",
    "    result=await asyncio.gather(*tasks)\n",
    "    print(result)\n",
    "\n"
   ]
  },
  {
   "cell_type": "markdown",
   "id": "9265ee45",
   "metadata": {},
   "source": [
    "# Grid shape task (2x2)\n",
    "This task consists on figuring out what shapes are intersected by a line traced between two points in a 2x2 grid. In a 2x2 grid, if we clarify that start and end shapes do not count as being intersected, it does not matter what shapes and where they are: in a 2x2 grid there cannot be any intersections."
   ]
  },
  {
   "cell_type": "code",
   "execution_count": 80,
   "id": "f130c143",
   "metadata": {},
   "outputs": [
    {
     "data": {
      "text/plain": [
       "'Question: In a 2x2 grid there are the following objects, listed left to right, top to bottom: green square, red circle, blue triangle, green circle. If I draw a straight line between the green circle and the blue triangle, how many shapes does that line intersect? The shapes where the line start and end do not count as intersecting the line.'"
      ]
     },
     "execution_count": 80,
     "metadata": {},
     "output_type": "execute_result"
    }
   ],
   "source": [
    "colors=['red','blue','green']\n",
    "shapes=['circle','triangle','square']\n",
    "prompt_start=\"In a 2x2 grid there are the following objects, listed left to right, top to bottom: \"\n",
    "perms=[f'{i[0]} {i[1]}' for i in itertools.product(colors,shapes)]\n",
    "# The answer in all cases is none\n",
    "def get_prompt_2x2():\n",
    "    this_shapes=random.sample(perms,4)\n",
    "    shapes=', '.join([i for i in this_shapes])\n",
    "    two_arbitrary_shapes=random.sample(this_shapes,2)\n",
    "    two_shapes_prompt=f'the {two_arbitrary_shapes[0]} and the {two_arbitrary_shapes[1]}'\n",
    "    full_prompt='Question: '+ prompt_start+shapes+\". If I draw a straight line between \"+two_shapes_prompt+\", how many shapes does that line intersect? The shapes where the line start and end do not count as intersecting the line.\"\n",
    "    return full_prompt\n",
    "\n",
    "get_prompt_2x2()"
   ]
  },
  {
   "cell_type": "code",
   "execution_count": 89,
   "id": "be5b4bd3",
   "metadata": {},
   "outputs": [],
   "source": [
    "N_SAMPLES=10\n",
    "TEMP=0.7\n",
    "async def eval_model(prompt):\n",
    "        def check_answer(result:str):\n",
    "        \"\"\"\n",
    "        Answer is always zero in this case\n",
    "        \"\"\"\n",
    "        zeros={\"0\",\"zero\",\"none\",\"no\"}\n",
    "        for valid_answer in zeros:\n",
    "            if valid_answer in result.lower():\n",
    "                return True\n",
    "        return False\n",
    "    model_result=await call_model(prompt,10,TEMP)\n",
    "    is_model_correct=check_answer(model_result)\n",
    "    return prompt,model_result,is_model_correct"
   ]
  },
  {
   "cell_type": "code",
   "execution_count": 90,
   "id": "3a98c7ef",
   "metadata": {},
   "outputs": [
    {
     "data": {
      "text/plain": [
       "[]"
      ]
     },
     "execution_count": 90,
     "metadata": {},
     "output_type": "execute_result"
    }
   ],
   "source": [
    "# 0% success rate\n",
    "with ThreadPoolExecutor(max_workers=50) as p:\n",
    "    tasks=[eval_model(get_prompt_2x2()) for _ in range(N_SAMPLES)]\n",
    "    result=await asyncio.gather(*tasks)\n",
    "list(filter(lambda x: x[2],result))"
   ]
  },
  {
   "cell_type": "code",
   "execution_count": 91,
   "id": "ddf68c9c",
   "metadata": {},
   "outputs": [
    {
     "data": {
      "text/plain": [
       "[]"
      ]
     },
     "execution_count": 91,
     "metadata": {},
     "output_type": "execute_result"
    }
   ],
   "source": [
    "# Oneshot 0/50\n",
    "prompt=lambda:get_prompt_2x2()+'\\n\\nAnswer: Zero\\n\\n'+get_prompt_2x2()+'\\n\\nAnswer:'\n",
    "with ThreadPoolExecutor(max_workers=50) as p:\n",
    "    tasks=[eval_model(prompt()) for _ in range(N_SAMPLES)]\n",
    "    result=await asyncio.gather(*tasks)\n",
    "list(filter(lambda x: x[2],result))"
   ]
  },
  {
   "cell_type": "code",
   "execution_count": 92,
   "id": "d6739601",
   "metadata": {},
   "outputs": [
    {
     "data": {
      "text/plain": [
       "[('Question: In a 2x2 grid there are the following objects, listed left to right, top to bottom: green triangle, blue circle, red triangle, green square. If I draw a straight line between the green triangle and the blue circle, how many shapes does that line intersect? The shapes where the line start and end do not count as intersecting the line.\\n\\nAnswer: Zero\\n\\nQuestion: In a 2x2 grid there are the following objects, listed left to right, top to bottom: green square, blue square, blue triangle, blue circle. If I draw a straight line between the blue square and the blue circle, how many shapes does that line intersect? The shapes where the line start and end do not count as intersecting the line.\\n\\nAnswer: Zero\\n\\nQuestion: In a 2x2 grid there are the following objects, listed left to right, top to bottom: red square, green circle, green square, red triangle. If I draw a straight line between the red triangle and the red square, how many shapes does that line intersect? The shapes where the line start and end do not count as intersecting the line.\\n\\nAnswer:',\n",
       "  ' Zero',\n",
       "  True),\n",
       " ('Question: In a 2x2 grid there are the following objects, listed left to right, top to bottom: green triangle, green square, red triangle, green circle. If I draw a straight line between the green circle and the red triangle, how many shapes does that line intersect? The shapes where the line start and end do not count as intersecting the line.\\n\\nAnswer: Zero\\n\\nQuestion: In a 2x2 grid there are the following objects, listed left to right, top to bottom: green circle, green square, red circle, red triangle. If I draw a straight line between the green square and the red circle, how many shapes does that line intersect? The shapes where the line start and end do not count as intersecting the line.\\n\\nAnswer: Zero\\n\\nQuestion: In a 2x2 grid there are the following objects, listed left to right, top to bottom: green square, red triangle, red square, green triangle. If I draw a straight line between the red square and the red triangle, how many shapes does that line intersect? The shapes where the line start and end do not count as intersecting the line.\\n\\nAnswer:',\n",
       "  ' Zero',\n",
       "  True)]"
      ]
     },
     "execution_count": 92,
     "metadata": {},
     "output_type": "execute_result"
    }
   ],
   "source": [
    "# Twoshot 2/50\n",
    "prompt=lambda: get_prompt_2x2()+'\\n\\nAnswer: Zero\\n\\n'+get_prompt_2x2()+'\\n\\nAnswer: Zero\\n\\n'+get_prompt_2x2()+'\\n\\nAnswer:'\n",
    "with ThreadPoolExecutor(max_workers=50) as p:\n",
    "    tasks=[eval_model(prompt()) for _ in range(N_SAMPLES)]\n",
    "    result=await asyncio.gather(*tasks)\n",
    "list(filter(lambda x: x[2],result))"
   ]
  },
  {
   "cell_type": "markdown",
   "id": "b4bc616f",
   "metadata": {},
   "source": [
    "# Grid shape task (3x3)\n",
    "This is the same task as ealier, but on a 2d grid. Unlike th2 2x2 task, in the 3x3 task it is possible for there to be shapes intersecting the line if it is a diagonal line; there can be either zero or one shapes intersected. In this task, the model has to say not only whether there is a shape, but if there is, what the shape is."
   ]
  },
  {
   "cell_type": "code",
   "execution_count": 274,
   "id": "46b06216",
   "metadata": {},
   "outputs": [
    {
     "name": "stdout",
     "output_type": "stream",
     "text": [
      "('Question: In a 3x3 grid there are the following objects, listed left to right, top to bottom: green circle, blue circle, blue triangle, green triangle, red square, green square, red triangle, red circle, blue square. If I draw a straight line between the blue triangle and the blue square, what shapes, if any, does that line intersect? The shapes where the line start and end do not count as intersecting the line. If a shape is intersected, return the shape.    \\nAnswer: ', 'green square')\n"
     ]
    }
   ],
   "source": [
    "prompt_start=\"In a 3x3 grid there are the following objects, listed left to right, top to bottom: \"\n",
    "intersecting_cells=[(1,3),(1,7),(1,9),(2,8),(3,7),(3,9),(4,6),(7,9)]\n",
    "def get_prompt_3x3():\n",
    "    this_shapes=random.sample(perms,9)\n",
    "    shapes=', '.join([i for i in this_shapes])\n",
    "    two_arbitrary_shapes=random.choice(intersecting_cells)\n",
    "    shape_start=this_shapes[two_arbitrary_shapes[0]-1]\n",
    "    shape_end=this_shapes[two_arbitrary_shapes[1]-1]\n",
    "    two_shapes_prompt=f'the {shape_start} and the {shape_end}'\n",
    "    full_prompt='Question: '+ prompt_start+shapes+\\\n",
    "    f\". If I draw a straight line between {two_shapes_prompt}\"+\\\n",
    "    \", what shapes, if any, does that line intersect?\\\n",
    " The shapes where the line start and end do not count as intersecting the line.\\\n",
    " If a shape is intersected, return the shape.\\\n",
    "    \\nAnswer: \"\n",
    "    # Is there a shape that is intersected?\n",
    "    intersected_shape=get_intersected_shape(this_shapes,shape_start,shape_end)\n",
    "    return full_prompt,intersected_shape\n",
    "def get_intersected_shape(shapes:list[str],shape1:str,shape2:str)->str|None:\n",
    "    \"\"\"\n",
    "    1,2,3\n",
    "    4,5,6\n",
    "    7,8,9\n",
    "    \"\"\"\n",
    "    pos1 = shapes.index(shape1)\n",
    "    pos2=shapes.index(shape2)\n",
    "    distance=abs(pos1-pos2)\n",
    "    minpos=min(pos1,pos2)\n",
    "    if distance in {8,4}:\n",
    "        # diagonal\n",
    "        return shapes[5]\n",
    "    elif distance==2:\n",
    "        # across row\n",
    "        return shapes[minpos+1]\n",
    "    elif distance==6:\n",
    "        # across column\n",
    "        return shapes[minpos+3]\n",
    "    else:\n",
    "        raise Exception\n",
    "    \n",
    "print(get_prompt_3x3())"
   ]
  },
  {
   "cell_type": "code",
   "execution_count": 277,
   "id": "84bd4893",
   "metadata": {},
   "outputs": [
    {
     "data": {
      "text/plain": [
       "('Question: In a 3x3 grid there are the following objects, listed left to right, top to bottom: green square, red circle, green triangle, blue triangle, blue circle, red triangle, green circle, red square, blue square. If I draw a straight line between the green triangle and the green circle, what shapes, if any, does that line intersect? The shapes where the line start and end do not count as intersecting the line. If a shape is intersected, return the shape.    \\nAnswer: ',\n",
       " 'The line intersects the green square, the red circle, the blue triangle, the blue circle, and the red triangle.',\n",
       " False)"
      ]
     },
     "execution_count": 277,
     "metadata": {},
     "output_type": "execute_result"
    }
   ],
   "source": [
    "N_SAMPLES=50\n",
    "TEMP=0\n",
    "sample_answer='The line intersects the green square'\n",
    "def check_answer(result:str,answer:str):\n",
    "      if str(answer) in result and len(result)<(len(sample_answer)-10):\n",
    "            return True\n",
    "      else:\n",
    "        return False\n",
    "# Assumes the number is the last part of the prompt\n",
    "async def eval_model(prompt_and_answer:tuple[str,int]):\n",
    "    prompt=prompt_and_answer[0]\n",
    "    model_result=await call_model(prompt,1000,TEMP)\n",
    "    is_model_correct=check_answer(model_result,prompt_and_answer[1])\n",
    "    return prompt,model_result,is_model_correct\n",
    "await eval_model(get_prompt_3x3())"
   ]
  },
  {
   "cell_type": "code",
   "execution_count": 278,
   "id": "02746b36",
   "metadata": {},
   "outputs": [
    {
     "data": {
      "text/plain": [
       "[]"
      ]
     },
     "execution_count": 278,
     "metadata": {},
     "output_type": "execute_result"
    }
   ],
   "source": [
    "# Zeroshot: 0% success rate\n",
    "with ThreadPoolExecutor(max_workers=50) as p:\n",
    "    tasks=[eval_model(get_prompt_3x3()) for _ in range(N_SAMPLES)]\n",
    "    result=await asyncio.gather(*tasks)\n",
    "list(filter(lambda x: x[2],result))"
   ]
  },
  {
   "cell_type": "code",
   "execution_count": 289,
   "id": "0e0d6501",
   "metadata": {},
   "outputs": [
    {
     "data": {
      "text/plain": [
       "[('Question: In a 3x3 grid there are the following objects, listed left to right, top to bottom: blue square, blue circle, green square, green circle, red circle, red triangle, green triangle, red square, blue triangle. If I draw a straight line between the green square and the green triangle, what shapes, if any, does that line intersect? The shapes where the line start and end do not count as intersecting the line. If a shape is intersected, return the shape.    \\nAnswer: red triangle\\n\\nQuestion: In a 3x3 grid there are the following objects, listed left to right, top to bottom: red square, blue circle, green circle, red circle, green square, blue triangle, green triangle, blue square, red triangle. If I draw a straight line between the green triangle and the red triangle, what shapes, if any, does that line intersect? The shapes where the line start and end do not count as intersecting the line. If a shape is intersected, return the shape.    \\nAnswer: ',\n",
       "  ' blue square',\n",
       "  True),\n",
       " ('Question: In a 3x3 grid there are the following objects, listed left to right, top to bottom: red square, green square, red triangle, green circle, blue square, blue circle, red circle, green triangle, blue triangle. If I draw a straight line between the red square and the blue triangle, what shapes, if any, does that line intersect? The shapes where the line start and end do not count as intersecting the line. If a shape is intersected, return the shape.    \\nAnswer: blue circle\\n\\nQuestion: In a 3x3 grid there are the following objects, listed left to right, top to bottom: blue square, green square, blue triangle, blue circle, red triangle, green circle, red circle, green triangle, red square. If I draw a straight line between the blue triangle and the red square, what shapes, if any, does that line intersect? The shapes where the line start and end do not count as intersecting the line. If a shape is intersected, return the shape.    \\nAnswer: ',\n",
       "  ' green circle',\n",
       "  True)]"
      ]
     },
     "execution_count": 289,
     "metadata": {},
     "output_type": "execute_result"
    }
   ],
   "source": [
    "# One-shot 2/50\n",
    "N_SAMPLES=50\n",
    "def get_example():\n",
    "    prompt,answer=get_prompt_3x3()\n",
    "    example=f\"{prompt}{answer}\\n\"\n",
    "    question=get_prompt_3x3()\n",
    "    return example+\"\\n\"+question[0],question[1]\n",
    "with ThreadPoolExecutor(max_workers=50) as p:\n",
    "    tasks=[eval_model(get_example()) for _ in range(N_SAMPLES)]\n",
    "    result=await asyncio.gather(*tasks)\n",
    "list(filter(lambda x: x[2],result))"
   ]
  },
  {
   "cell_type": "code",
   "execution_count": 310,
   "id": "7b374078",
   "metadata": {},
   "outputs": [
    {
     "name": "stdout",
     "output_type": "stream",
     "text": [
      "Question: In a 3x3 grid there are the following objects, listed left to right, top to bottom: red square, red circle, green circle, red triangle, blue triangle, blue circle, green triangle, blue square, green square. If I draw a straight line between the red square and the green triangle, what shapes, if any, does that line intersect? The shapes where the line start and end do not count as intersecting the line. If a shape is intersected, return the shape.    \n",
      "Answer: red triangle\n",
      "\n",
      "Question: In a 3x3 grid there are the following objects, listed left to right, top to bottom: red circle, red triangle, blue triangle, green square, green triangle, blue circle, blue square, red square, green circle. If I draw a straight line between the green square and the blue circle, what shapes, if any, does that line intersect? The shapes where the line start and end do not count as intersecting the line. If a shape is intersected, return the shape.    \n",
      "Answer: green triangle\n",
      "\n",
      "Question: In a 3x3 grid there are the following objects, listed left to right, top to bottom: green square, red triangle, blue square, red circle, red square, blue circle, green circle, green triangle, blue triangle. If I draw a straight line between the green square and the blue triangle, what shapes, if any, does that line intersect? The shapes where the line start and end do not count as intersecting the line. If a shape is intersected, return the shape.    \n",
      "Answer: \n"
     ]
    }
   ],
   "source": [
    "def get_example():\n",
    "    prompt,answer=get_prompt_3x3()\n",
    "    prompt1,answer1=get_prompt_3x3()\n",
    "    example=f\"{prompt}{answer}\\n\"\n",
    "    example1=f\"{prompt1}{answer1}\\n\"\n",
    "    example=f'{example}\\n{example1}'\n",
    "    question=get_prompt_3x3()\n",
    "    return example+\"\\n\"+question[0],question[1]\n",
    "print(get_example()[0])"
   ]
  },
  {
   "cell_type": "code",
   "execution_count": 301,
   "id": "035ca25c",
   "metadata": {},
   "outputs": [
    {
     "data": {
      "text/plain": [
       "[('Question: In a 3x3 grid there are the following objects, listed left to right, top to bottom: red triangle, red circle, green triangle, blue circle, blue triangle, red square, green square, green circle, blue square. If I draw a straight line between the red triangle and the green triangle, what shapes, if any, does that line intersect? The shapes where the line start and end do not count as intersecting the line. If a shape is intersected, return the shape.    \\nAnswer: red circle\\n\\nQuestion: In a 3x3 grid there are the following objects, listed left to right, top to bottom: blue triangle, red circle, red square, green circle, red triangle, blue circle, green triangle, blue square, green square. If I draw a straight line between the blue triangle and the green square, what shapes, if any, does that line intersect? The shapes where the line start and end do not count as intersecting the line. If a shape is intersected, return the shape.    \\nAnswer: blue circle\\n\\nQuestion: In a 3x3 grid there are the following objects, listed left to right, top to bottom: green square, red circle, red triangle, green triangle, green circle, red square, blue square, blue circle, blue triangle. If I draw a straight line between the blue square and the blue triangle, what shapes, if any, does that line intersect? The shapes where the line start and end do not count as intersecting the line. If a shape is intersected, return the shape.    \\nAnswer: ',\n",
       "  ' blue circle',\n",
       "  True),\n",
       " ('Question: In a 3x3 grid there are the following objects, listed left to right, top to bottom: blue circle, green square, green circle, red square, green triangle, red circle, blue triangle, red triangle, blue square. If I draw a straight line between the blue circle and the blue square, what shapes, if any, does that line intersect? The shapes where the line start and end do not count as intersecting the line. If a shape is intersected, return the shape.    \\nAnswer: red circle\\n\\nQuestion: In a 3x3 grid there are the following objects, listed left to right, top to bottom: blue triangle, red square, blue circle, green circle, red triangle, green square, red circle, green triangle, blue square. If I draw a straight line between the blue triangle and the blue circle, what shapes, if any, does that line intersect? The shapes where the line start and end do not count as intersecting the line. If a shape is intersected, return the shape.    \\nAnswer: red square\\n\\nQuestion: In a 3x3 grid there are the following objects, listed left to right, top to bottom: green square, red triangle, blue circle, green circle, red square, green triangle, blue square, red circle, blue triangle. If I draw a straight line between the green square and the blue circle, what shapes, if any, does that line intersect? The shapes where the line start and end do not count as intersecting the line. If a shape is intersected, return the shape.    \\nAnswer: ',\n",
       "  'red triangle',\n",
       "  True),\n",
       " ('Question: In a 3x3 grid there are the following objects, listed left to right, top to bottom: red triangle, green triangle, green square, green circle, red circle, blue square, blue circle, red square, blue triangle. If I draw a straight line between the green circle and the blue square, what shapes, if any, does that line intersect? The shapes where the line start and end do not count as intersecting the line. If a shape is intersected, return the shape.    \\nAnswer: red circle\\n\\nQuestion: In a 3x3 grid there are the following objects, listed left to right, top to bottom: red triangle, green square, red circle, blue square, green triangle, blue triangle, blue circle, red square, green circle. If I draw a straight line between the red circle and the blue circle, what shapes, if any, does that line intersect? The shapes where the line start and end do not count as intersecting the line. If a shape is intersected, return the shape.    \\nAnswer: blue triangle\\n\\nQuestion: In a 3x3 grid there are the following objects, listed left to right, top to bottom: blue square, green triangle, red circle, red square, blue circle, blue triangle, green circle, green square, red triangle. If I draw a straight line between the blue square and the red circle, what shapes, if any, does that line intersect? The shapes where the line start and end do not count as intersecting the line. If a shape is intersected, return the shape.    \\nAnswer: ',\n",
       "  'green triangle',\n",
       "  True),\n",
       " ('Question: In a 3x3 grid there are the following objects, listed left to right, top to bottom: red square, blue circle, green triangle, red triangle, green circle, green square, red circle, blue triangle, blue square. If I draw a straight line between the red square and the blue square, what shapes, if any, does that line intersect? The shapes where the line start and end do not count as intersecting the line. If a shape is intersected, return the shape.    \\nAnswer: green square\\n\\nQuestion: In a 3x3 grid there are the following objects, listed left to right, top to bottom: blue square, green square, green circle, blue triangle, red square, blue circle, red triangle, green triangle, red circle. If I draw a straight line between the blue square and the red triangle, what shapes, if any, does that line intersect? The shapes where the line start and end do not count as intersecting the line. If a shape is intersected, return the shape.    \\nAnswer: blue triangle\\n\\nQuestion: In a 3x3 grid there are the following objects, listed left to right, top to bottom: green square, blue triangle, red square, green triangle, red circle, red triangle, blue circle, blue square, green circle. If I draw a straight line between the red square and the green circle, what shapes, if any, does that line intersect? The shapes where the line start and end do not count as intersecting the line. If a shape is intersected, return the shape.    \\nAnswer: ',\n",
       "  'red triangle',\n",
       "  True),\n",
       " ('Question: In a 3x3 grid there are the following objects, listed left to right, top to bottom: blue circle, green square, blue square, green triangle, blue triangle, red square, green circle, red circle, red triangle. If I draw a straight line between the blue circle and the green circle, what shapes, if any, does that line intersect? The shapes where the line start and end do not count as intersecting the line. If a shape is intersected, return the shape.    \\nAnswer: green triangle\\n\\nQuestion: In a 3x3 grid there are the following objects, listed left to right, top to bottom: red square, green square, green circle, red circle, blue triangle, green triangle, blue square, blue circle, red triangle. If I draw a straight line between the green circle and the red triangle, what shapes, if any, does that line intersect? The shapes where the line start and end do not count as intersecting the line. If a shape is intersected, return the shape.    \\nAnswer: green triangle\\n\\nQuestion: In a 3x3 grid there are the following objects, listed left to right, top to bottom: blue square, green square, red square, blue circle, red circle, green triangle, green circle, blue triangle, red triangle. If I draw a straight line between the green circle and the red triangle, what shapes, if any, does that line intersect? The shapes where the line start and end do not count as intersecting the line. If a shape is intersected, return the shape.    \\nAnswer: ',\n",
       "  'blue triangle',\n",
       "  True),\n",
       " ('Question: In a 3x3 grid there are the following objects, listed left to right, top to bottom: green circle, blue circle, red triangle, green triangle, red circle, green square, red square, blue square, blue triangle. If I draw a straight line between the blue circle and the blue square, what shapes, if any, does that line intersect? The shapes where the line start and end do not count as intersecting the line. If a shape is intersected, return the shape.    \\nAnswer: red circle\\n\\nQuestion: In a 3x3 grid there are the following objects, listed left to right, top to bottom: green circle, green square, red circle, red triangle, blue square, blue circle, red square, blue triangle, green triangle. If I draw a straight line between the red circle and the green triangle, what shapes, if any, does that line intersect? The shapes where the line start and end do not count as intersecting the line. If a shape is intersected, return the shape.    \\nAnswer: blue circle\\n\\nQuestion: In a 3x3 grid there are the following objects, listed left to right, top to bottom: blue circle, blue triangle, red square, blue square, green circle, red triangle, green triangle, red circle, green square. If I draw a straight line between the blue triangle and the red circle, what shapes, if any, does that line intersect? The shapes where the line start and end do not count as intersecting the line. If a shape is intersected, return the shape.    \\nAnswer: ',\n",
       "  'green circle',\n",
       "  True)]"
      ]
     },
     "execution_count": 301,
     "metadata": {},
     "output_type": "execute_result"
    }
   ],
   "source": [
    "# Two-shot 5/50\n",
    "N_SAMPLES=50\n",
    "def get_example():\n",
    "    prompt,answer=get_prompt_3x3()\n",
    "    prompt1,answer1=get_prompt_3x3()\n",
    "    example=f\"{prompt}{answer}\\n\"\n",
    "    example1=f\"{prompt1}{answer1}\\n\"\n",
    "    example=f'{example}\\n{example1}'\n",
    "    question=get_prompt_3x3()\n",
    "    return example+\"\\n\"+question[0],question[1]\n",
    "with ThreadPoolExecutor(max_workers=50) as p:\n",
    "    tasks=[eval_model(get_example()) for _ in range(N_SAMPLES)]\n",
    "    result=await asyncio.gather(*tasks)\n",
    "list(filter(lambda x: x[2],result))"
   ]
  },
  {
   "cell_type": "markdown",
   "id": "1e0e3ba6",
   "metadata": {},
   "source": [
    "# Letter counting task\n",
    "In this task, a number of words is generated with numbers and letters in them. The task is to count the number of letters (excluding numbers, explicitly) in total that are present in the provided list."
   ]
  },
  {
   "cell_type": "code",
   "execution_count": 136,
   "id": "91261cd8",
   "metadata": {},
   "outputs": [],
   "source": [
    "import string\n",
    "alphabetic_letters=set(string.ascii_lowercase)"
   ]
  },
  {
   "cell_type": "code",
   "execution_count": 137,
   "id": "8be56388",
   "metadata": {},
   "outputs": [
    {
     "name": "stdout",
     "output_type": "stream",
     "text": [
      "['h79mb', 'btx4h2', 'ma10pd']\n"
     ]
    }
   ],
   "source": [
    "def generate_list_words(list_len:int)->list[str]:\n",
    "    def generate_single_word():\n",
    "        # Let's make it between 3 and 6 chars long\n",
    "        word_len=random.choice([3,4,5,6])\n",
    "        word=\"\"\n",
    "        for _ in range(word_len):\n",
    "            is_letter=random.choice([False,True])\n",
    "            if is_letter:\n",
    "                word+=random.choice(string.ascii_lowercase)\n",
    "            else:\n",
    "                word+=random.choice(string.digits)\n",
    "        return word\n",
    "        \n",
    "    return [generate_single_word() for i in range(list_len)]\n",
    "print(generate_list_words(3))\n",
    "    "
   ]
  },
  {
   "cell_type": "code",
   "execution_count": 143,
   "id": "58345ad6",
   "metadata": {},
   "outputs": [
    {
     "name": "stdout",
     "output_type": "stream",
     "text": [
      "('Question: What is the total number of letters are in the words in the list? Do not count the numeric characters, count only letters in the alphabet. E.g. the word blap123 has 4 letters. The word list is: mre7l5, up72, dx4477. Reason step by step. First, calculate and write how many letters are in each word, then sum them.  \\n\\nAnswer: ', 8)\n"
     ]
    },
    {
     "data": {
      "text/plain": [
       "'There are a total of 12 letters in the words in the list.'"
      ]
     },
     "execution_count": 143,
     "metadata": {},
     "output_type": "execute_result"
    }
   ],
   "source": [
    "def letters_in_word(word:str)->int:\n",
    "    return len(list(filter(lambda char: char in alphabetic_letters,word)))\n",
    "\n",
    "def get_prompt_and_answer(words:list[str]):\n",
    "    letters=sum([letters_in_word(w) for w in words])\n",
    "    wordlist=', '.join(words)\n",
    "    prompt=f\"\"\"Question: What is the total number of letters are in the words in the list?\n",
    "    Do not count the numeric characters, count only letters in the alphabet. E.g. the word blap123 has 4 letters.\n",
    "    The word list is: {wordlist}.\n",
    "    Reason step by step. First, calculate and write how many letters are in each word, then sum them.\n",
    "    \n",
    "    \\n\\nAnswer:\n",
    "    \"\"\".replace(\"\\n    \",\" \")\n",
    "    return prompt,letters\n",
    "prompt=get_prompt_and_answer(generate_list_words(3))\n",
    "print(prompt)\n",
    "await call_model(prompt[0])"
   ]
  },
  {
   "cell_type": "code",
   "execution_count": 188,
   "id": "062016c8",
   "metadata": {},
   "outputs": [
    {
     "data": {
      "text/plain": [
       "('Question: What is the total number of letters are in the words in the list? Do not count the numeric characters, count only letters in the alphabet. E.g. the word blap123 has 4 letters. The word list is: 2ura, am2629, f69. Reason step by step. First, calculate and write how many letters are in each word, then sum them.  \\n\\nAnswer: ',\n",
       " '2ura: 4 letters\\nam2629: 5 letters\\nf69: 2 letters\\n\\nTotal: 11 letters',\n",
       " False)"
      ]
     },
     "execution_count": 188,
     "metadata": {},
     "output_type": "execute_result"
    }
   ],
   "source": [
    "N_SAMPLES=50\n",
    "TEMP=0\n",
    "def check_answer(result:str,answer:int):\n",
    "            # Get all numbers\n",
    "            nums=[int(s) for s in result.split() if s.isdigit()]\n",
    "            if len(nums)<1:\n",
    "                raise Exception(f\"Check failed for result: {result}\")\n",
    "            if nums[-1]==answer:\n",
    "                return True\n",
    "            else:\n",
    "                return False\n",
    "# Assumes the number is the last part of the prompt\n",
    "async def eval_model(prompt_and_answer:tuple[str,int]):\n",
    "    prompt=prompt_and_answer[0]\n",
    "    model_result=await call_model(prompt,1000,TEMP)\n",
    "    is_model_correct=check_answer(model_result,prompt_and_answer[1])\n",
    "    return prompt,model_result,is_model_correct\n",
    "await eval_model(get_prompt_and_answer(generate_list_words(3)))"
   ]
  },
  {
   "cell_type": "markdown",
   "id": "a4afb8f2",
   "metadata": {},
   "source": [
    "## Three words"
   ]
  },
  {
   "cell_type": "code",
   "execution_count": 150,
   "id": "539a4111",
   "metadata": {},
   "outputs": [
    {
     "data": {
      "text/plain": [
       "[]"
      ]
     },
     "execution_count": 150,
     "metadata": {},
     "output_type": "execute_result"
    }
   ],
   "source": [
    "# Zero-shot\n",
    "prompt=lambda:get_prompt_and_answer(generate_list_words(3))\n",
    "with ThreadPoolExecutor(max_workers=50) as p:\n",
    "    tasks=[eval_model(prompt()) for _ in range(N_SAMPLES)]\n",
    "    result=await asyncio.gather(*tasks)\n",
    "list(filter(lambda x: x[2],result))"
   ]
  },
  {
   "cell_type": "code",
   "execution_count": 165,
   "id": "d66941bb",
   "metadata": {},
   "outputs": [
    {
     "data": {
      "text/plain": [
       "[]"
      ]
     },
     "execution_count": 165,
     "metadata": {},
     "output_type": "execute_result"
    }
   ],
   "source": [
    "# One-shot\n",
    "def get_example():\n",
    "    prompt,answer=get_prompt_and_answer(generate_list_words(3))\n",
    "    example=f\"{prompt}{answer}\\n\"\n",
    "    question=get_prompt_and_answer(generate_list_words(3))\n",
    "    return example+\"\\n\"+question[0],question[1]\n",
    "with ThreadPoolExecutor(max_workers=50) as p:\n",
    "    tasks=[eval_model(get_example()) for _ in range(N_SAMPLES)]\n",
    "    result=await asyncio.gather(*tasks)\n",
    "list(filter(lambda x: x[2],result))"
   ]
  },
  {
   "cell_type": "code",
   "execution_count": 189,
   "id": "903b0826",
   "metadata": {},
   "outputs": [
    {
     "data": {
      "text/plain": [
       "5"
      ]
     },
     "execution_count": 189,
     "metadata": {},
     "output_type": "execute_result"
    }
   ],
   "source": [
    "# Two-shot; 10%\n",
    "def get_example():\n",
    "    prompt,answer=get_prompt_and_answer(generate_list_words(3))\n",
    "    prompt2,answer2=get_prompt_and_answer(generate_list_words(3))\n",
    "    example1=f\"{prompt}{answer}\\n\"\n",
    "    example2=f\"{prompt2}{answer2}\\n\"\n",
    "    example=example1+example2\n",
    "    question=get_prompt_and_answer(generate_list_words(3))\n",
    "    return example+\"\\n\"+question[0],question[1]\n",
    "with ThreadPoolExecutor(max_workers=50) as p:\n",
    "    tasks=[eval_model(get_example()) for _ in range(N_SAMPLES)]\n",
    "    result=await asyncio.gather(*tasks)\n",
    "len(list(filter(lambda x: x[2],result)))\n"
   ]
  },
  {
   "cell_type": "code",
   "execution_count": 192,
   "id": "f8966626",
   "metadata": {},
   "outputs": [
    {
     "data": {
      "text/plain": [
       "4"
      ]
     },
     "execution_count": 192,
     "metadata": {},
     "output_type": "execute_result"
    }
   ],
   "source": [
    "# Three shot; 8%\n",
    "def get_example():\n",
    "    prompt,answer=get_prompt_and_answer(generate_list_words(3))\n",
    "    prompt2,answer2=get_prompt_and_answer(generate_list_words(3))\n",
    "    prompt3,answer3=get_prompt_and_answer(generate_list_words(3))\n",
    "    example1=f\"{prompt}{answer}\\n\"\n",
    "    example2=f\"{prompt2}{answer2}\\n\"\n",
    "    example3=f\"{prompt3}{answer3}\\n\"\n",
    "    example=example1+example2+example3\n",
    "    question=get_prompt_and_answer(generate_list_words(3))\n",
    "    return example+\"\\n\"+question[0],question[1]\n",
    "with ThreadPoolExecutor(max_workers=50) as p:\n",
    "    tasks=[eval_model(get_example()) for _ in range(N_SAMPLES)]\n",
    "    result=await asyncio.gather(*tasks)\n",
    "len(list(filter(lambda x: x[2],result)))"
   ]
  },
  {
   "cell_type": "markdown",
   "id": "d9ecb305",
   "metadata": {},
   "source": [
    "## Four words\n"
   ]
  },
  {
   "cell_type": "code",
   "execution_count": 194,
   "id": "65e0ccfa",
   "metadata": {},
   "outputs": [
    {
     "data": {
      "text/plain": [
       "[('Question: What is the total number of letters are in the words in the list? Do not count the numeric characters, count only letters in the alphabet. E.g. the word blap123 has 4 letters. The word list is: 2nmj, z77m, t74n, 9555k. Reason step by step. First, calculate and write how many letters are in each word, then sum them.  \\n\\nAnswer: ',\n",
       "  '2nmj: 4 letters\\n\\nz77m: 2 letters\\n\\nt74n: 2 letters\\n\\n9555k: 0 letters\\n\\nTotal: 8 letters',\n",
       "  True),\n",
       " ('Question: What is the total number of letters are in the words in the list? Do not count the numeric characters, count only letters in the alphabet. E.g. the word blap123 has 4 letters. The word list is: hah, lqh, quni43, 46dp. Reason step by step. First, calculate and write how many letters are in each word, then sum them.  \\n\\nAnswer: ',\n",
       "  'There are a total of 12 letters in the words in the list.',\n",
       "  True),\n",
       " ('Question: What is the total number of letters are in the words in the list? Do not count the numeric characters, count only letters in the alphabet. E.g. the word blap123 has 4 letters. The word list is: tv0c, 6p8j9, osy49, zb3yy. Reason step by step. First, calculate and write how many letters are in each word, then sum them.  \\n\\nAnswer: ',\n",
       "  'There are a total of 12 letters in the words in the list.',\n",
       "  True)]"
      ]
     },
     "execution_count": 194,
     "metadata": {},
     "output_type": "execute_result"
    }
   ],
   "source": [
    "# Zero-shot 3/50\n",
    "prompt=lambda:get_prompt_and_answer(generate_list_words(4))\n",
    "with ThreadPoolExecutor(max_workers=50) as p:\n",
    "    tasks=[eval_model(prompt()) for _ in range(N_SAMPLES)]\n",
    "    result=await asyncio.gather(*tasks)\n",
    "list(filter(lambda x: x[2],result))"
   ]
  },
  {
   "cell_type": "code",
   "execution_count": 195,
   "id": "2a1fb051",
   "metadata": {},
   "outputs": [
    {
     "data": {
      "text/plain": [
       "[('Question: What is the total number of letters are in the words in the list? Do not count the numeric characters, count only letters in the alphabet. E.g. the word blap123 has 4 letters. The word list is: 09wc6, ia4, zl74, 33pyyb. Reason step by step. First, calculate and write how many letters are in each word, then sum them.  \\n\\nAnswer: 10\\n\\nQuestion: What is the total number of letters are in the words in the list? Do not count the numeric characters, count only letters in the alphabet. E.g. the word blap123 has 4 letters. The word list is: 0lp, 75t98, ir39by. Reason step by step. First, calculate and write how many letters are in each word, then sum them.  \\n\\nAnswer: ',\n",
       "  'There are a total of 7 letters in the words in the list.',\n",
       "  True),\n",
       " ('Question: What is the total number of letters are in the words in the list? Do not count the numeric characters, count only letters in the alphabet. E.g. the word blap123 has 4 letters. The word list is: dthz2, 93xy, 11wp5, 5m369u. Reason step by step. First, calculate and write how many letters are in each word, then sum them.  \\n\\nAnswer: 10\\n\\nQuestion: What is the total number of letters are in the words in the list? Do not count the numeric characters, count only letters in the alphabet. E.g. the word blap123 has 4 letters. The word list is: foy, lk163, 9zayzs. Reason step by step. First, calculate and write how many letters are in each word, then sum them.  \\n\\nAnswer: ',\n",
       "  'There are a total of 10 letters in the words in the list.',\n",
       "  True),\n",
       " ('Question: What is the total number of letters are in the words in the list? Do not count the numeric characters, count only letters in the alphabet. E.g. the word blap123 has 4 letters. The word list is: 8pxgt, 487b, 90v, 13udl. Reason step by step. First, calculate and write how many letters are in each word, then sum them.  \\n\\nAnswer: 9\\n\\nQuestion: What is the total number of letters are in the words in the list? Do not count the numeric characters, count only letters in the alphabet. E.g. the word blap123 has 4 letters. The word list is: hx7bdc, knir4f, j6u. Reason step by step. First, calculate and write how many letters are in each word, then sum them.  \\n\\nAnswer: ',\n",
       "  'There are a total of 12 letters in the words in the list.',\n",
       "  True)]"
      ]
     },
     "execution_count": 195,
     "metadata": {},
     "output_type": "execute_result"
    }
   ],
   "source": [
    "# One-shot 3/50\n",
    "def get_example():\n",
    "    prompt,answer=get_prompt_and_answer(generate_list_words(4))\n",
    "    example=f\"{prompt}{answer}\\n\"\n",
    "    question=get_prompt_and_answer(generate_list_words(3))\n",
    "    return example+\"\\n\"+question[0],question[1]\n",
    "with ThreadPoolExecutor(max_workers=50) as p:\n",
    "    tasks=[eval_model(get_example()) for _ in range(N_SAMPLES)]\n",
    "    result=await asyncio.gather(*tasks)\n",
    "list(filter(lambda x: x[2],result))"
   ]
  },
  {
   "cell_type": "code",
   "execution_count": 196,
   "id": "daa92de4",
   "metadata": {},
   "outputs": [
    {
     "data": {
      "text/plain": [
       "4"
      ]
     },
     "execution_count": 196,
     "metadata": {},
     "output_type": "execute_result"
    }
   ],
   "source": [
    "# Two-shot; 4/50\n",
    "def get_example():\n",
    "    prompt,answer=get_prompt_and_answer(generate_list_words(4))\n",
    "    prompt2,answer2=get_prompt_and_answer(generate_list_words(4))\n",
    "    example1=f\"{prompt}{answer}\\n\"\n",
    "    example2=f\"{prompt2}{answer2}\\n\"\n",
    "    example=example1+example2\n",
    "    question=get_prompt_and_answer(generate_list_words(4))\n",
    "    return example+\"\\n\"+question[0],question[1]\n",
    "with ThreadPoolExecutor(max_workers=50) as p:\n",
    "    tasks=[eval_model(get_example()) for _ in range(N_SAMPLES)]\n",
    "    result=await asyncio.gather(*tasks)\n",
    "len(list(filter(lambda x: x[2],result)))"
   ]
  },
  {
   "cell_type": "code",
   "execution_count": null,
   "id": "986ae2db",
   "metadata": {},
   "outputs": [],
   "source": []
  }
 ],
 "metadata": {
  "kernelspec": {
   "display_name": "Python 3 (ipykernel)",
   "language": "python",
   "name": "python3"
  },
  "language_info": {
   "codemirror_mode": {
    "name": "ipython",
    "version": 3
   },
   "file_extension": ".py",
   "mimetype": "text/x-python",
   "name": "python",
   "nbconvert_exporter": "python",
   "pygments_lexer": "ipython3",
   "version": "3.10.5"
  }
 },
 "nbformat": 4,
 "nbformat_minor": 5
}
