{
 "cells": [
  {
   "cell_type": "code",
   "execution_count": 1,
   "id": "63a048fe",
   "metadata": {},
   "outputs": [],
   "source": [
    "from dotenv import load_dotenv\n",
    "import os\n",
    "import random\n",
    "import itertools\n",
    "import asyncio\n",
    "import openai\n",
    "load_dotenv()\n",
    "oai_key=os.getenv(\"OPENAI_KEY\")\n",
    "openai.api_key = oai_key"
   ]
  },
  {
   "cell_type": "code",
   "execution_count": 34,
   "id": "333004a0",
   "metadata": {},
   "outputs": [],
   "source": [
    "def call_gpt3(prompt:str,max_tokens:int=2000,temp:float=0):\n",
    "    completion = openai.Completion.create(engine=\"text-davinci-002\",temperature=temp,max_tokens=max_tokens, prompt=prompt)\n",
    "\n",
    "    return completion.choices[0].text.strip(\"\\n\")\n",
    "def call_codex(prompt:str,max_tokens:int=200,temp:float=0):\n",
    "    completion = openai.Completion.create(engine=\"code-davinci-002\",\n",
    "                                          temperature=temp,max_tokens=max_tokens, prompt=prompt,\n",
    "                                         suffix='```')\n",
    "\n",
    "    return completion.choices[0].text.strip(\"\\n\")"
   ]
  },
  {
   "cell_type": "code",
   "execution_count": 35,
   "id": "7a6fa91e",
   "metadata": {},
   "outputs": [
    {
     "data": {
      "text/plain": [
       "'```\\n2323423*232332'"
      ]
     },
     "execution_count": 35,
     "metadata": {},
     "output_type": "execute_result"
    }
   ],
   "source": [
    "call_codex(prompt)"
   ]
  },
  {
   "cell_type": "code",
   "execution_count": 42,
   "id": "7d5a614c",
   "metadata": {},
   "outputs": [
    {
     "name": "stdout",
     "output_type": "stream",
     "text": [
      "def print_result(result):\n",
      "    print(f'Is 131 a prime number? {result}')\n",
      "\n",
      "print_result(is_prime(131))\n"
     ]
    }
   ],
   "source": [
    "base_prompt=\"\"\"\n",
    "Answer the following questions. If you are unsure, produce a python function instead.\n",
    "\n",
    "Question: Do dogs bark?\n",
    "Answer: Yes, dogs bark.\n",
    "\n",
    "Question: Where is a well used toy car likely to be found?\n",
    "Answer: The most likely place to find a well used toy car is in a child's bedroom.\n",
    "\n",
    "Question: What is the total number of letters are in the words in the list? Do not count the numeric characters, count only letters in the alphabet. The word list is: blap2325, lop2344, yep34421111. Reason step by step. First, calculate and write how many letters are in each word, then sum them.\n",
    "Answer:\n",
    "```python\n",
    "# What is the total number of letters are in the words in the list? Do not count the numeric characters, count only letters in the alphabet. The word list is: blap2325, lop2344, yep34421111. Reason step by step. First, calculate and write how many letters are in each word, then sum them.\n",
    "def print_result\n",
    "\n",
    "\n",
    "Question: Who are three main characters in The Lord of the Rings?\n",
    "Answer: Frodo, Sam, and Gollum\n",
    "\n",
    "Question: What's the name of a salad that shares a name with a historical character?\n",
    "Answer: Caesar Salad\n",
    "Question: How much is 2323423*232332?\n",
    "Answer:\n",
    "\n",
    "```python\n",
    "# How much is 2323423*232332?\n",
    "def print_result\n",
    "\"\"\"\n",
    "prompt=\"\"\"\n",
    "Question: Is 131 a prime number?\n",
    "Answer:\n",
    "\"\"\"\n",
    "res=call_gpt3(base_prompt+prompt)\n",
    "if '```python' in res:\n",
    "    res2=call_codex(res)\n",
    "    res2=\"def print_result\"+res2\n",
    "    print(res2)\n",
    "else:\n",
    "    print(res)"
   ]
  },
  {
   "cell_type": "code",
   "execution_count": 44,
   "id": "69b4fc7f",
   "metadata": {},
   "outputs": [
    {
     "data": {
      "text/plain": [
       "'```\\n$ python3 prime.py'"
      ]
     },
     "execution_count": 44,
     "metadata": {},
     "output_type": "execute_result"
    }
   ],
   "source": [
    "call_codex(\"# Calculate whether 131 is a prime number\")"
   ]
  },
  {
   "cell_type": "code",
   "execution_count": null,
   "id": "2e638357",
   "metadata": {},
   "outputs": [],
   "source": []
  }
 ],
 "metadata": {
  "kernelspec": {
   "display_name": "Python 3 (ipykernel)",
   "language": "python",
   "name": "python3"
  },
  "language_info": {
   "codemirror_mode": {
    "name": "ipython",
    "version": 3
   },
   "file_extension": ".py",
   "mimetype": "text/x-python",
   "name": "python",
   "nbconvert_exporter": "python",
   "pygments_lexer": "ipython3",
   "version": "3.10.5"
  }
 },
 "nbformat": 4,
 "nbformat_minor": 5
}
