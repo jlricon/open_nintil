{
 "cells": [
  {
   "cell_type": "code",
   "execution_count": 248,
   "metadata": {},
   "outputs": [],
   "source": [
    "import pandas as pd\n",
    "import lifelines as lf\n",
    "import matplotlib.pyplot as plt\n",
    "%matplotlib inline"
   ]
  },
  {
   "cell_type": "code",
   "execution_count": 214,
   "metadata": {},
   "outputs": [],
   "source": [
    "# Fig. 2A or E4. L+R+T(2)\n",
    "def extract_data(sheet):\n",
    "    df=pd.read_excel(\"si.xlsx\",sheet_name=sheet)\n",
    "    df.columns=[\"Days\"]+list(df.columns)[:-1]\n",
    "    df=df.loc[1:,[i for i in df.columns if i==\"Days\" or \"Unnamed\" not in i]]\n",
    "    df=df.set_index(\"Days\").apply(lambda x: x/x.iloc[0])\n",
    "    cols = [i for i in df.columns if \"dilp\" not in i]\n",
    "    df=df[cols]\n",
    "    # Parse columns\n",
    "    df.columns=[i.replace(\"wDah - \",\"\") for i in df.columns]\n",
    "    df.plot()\n",
    "    return df\n",
    "    "
   ]
  },
  {
   "cell_type": "code",
   "execution_count": 265,
   "metadata": {},
   "outputs": [],
   "source": [
    "def get_lifes(df):\n",
    "    max_life = {}\n",
    "    median_life = {}\n",
    "    control = \"Control\" if \"Control\" in df else \"wDah - Control\"\n",
    "    for col in df.columns:\n",
    "        base = df[col]\n",
    "\n",
    "        first_zero_pos = base.index.get_loc(base.loc[base == 0].head(1).index[0])\n",
    "        a = base.iloc[first_zero_pos - 1 : first_zero_pos + 1].index.values.mean()\n",
    "        max_life[col] = a\n",
    "        b = base.reset_index().copy()\n",
    "        b = (\n",
    "            b.append({\"Days\": pd.np.nan, col: 0.5}, ignore_index=True)\n",
    "            .sort_values(col, ascending=False)\n",
    "            .set_index(col)\n",
    "        )\n",
    "        median_life[col] = b.interpolate(\"linear\").at[0.5, \"Days\"]\n",
    "    return pd.concat([\n",
    "        pd.Series(max_life,name='value')\n",
    "        .pipe(lambda x: x / x[control])\n",
    "        .drop(control)\n",
    "        .to_frame()\n",
    "        .assign(lifespan=\"max\",),\n",
    "        pd.Series(median_life,name='value')\n",
    "        .pipe(lambda x: x / x[control])\n",
    "        .drop(control)\n",
    "        .to_frame()\n",
    "        .assign(lifespan=\"median\")]\n",
    "    )"
   ]
  },
  {
   "cell_type": "code",
   "execution_count": 266,
   "metadata": {
    "scrolled": false
   },
   "outputs": [
    {
     "name": "stdout",
     "output_type": "stream",
     "text": [
      "           Control Lithium\n",
      "Days                      \n",
      "0.25             1       1\n",
      "3.22             1       1\n",
      "5.19             1   0.995\n",
      "6.92             1   0.995\n",
      "8.92             1   0.995\n",
      "11.96            1   0.995\n",
      "16.13      0.95122   0.995\n",
      "19.91      0.95122   0.995\n",
      "24.15      0.95122   0.995\n",
      "27.10     0.946341   0.995\n",
      "32.19     0.936585    0.99\n",
      "49.37     0.921951    0.99\n",
      "52.13     0.863415    0.99\n",
      "57.33     0.765854   0.965\n",
      "62.04     0.663415    0.89\n",
      "68.38     0.521951   0.735\n",
      "71.33     0.380488   0.675\n",
      "74.38     0.253659    0.56\n",
      "80.17    0.0829268    0.42\n",
      "83.00    0.0439024   0.255\n",
      "85.00    0.0195122   0.135\n",
      "87.00   0.00487805   0.085\n",
      "90.00            0   0.025\n",
      "92.00            0    0.01\n",
      "94.00            0       0\n",
      "96.00            0       0\n",
      "99.00            0       0\n",
      "101.00           0       0\n",
      "104.00           0       0\n",
      "106.00           0       0\n",
      "108.00           0       0\n"
     ]
    },
    {
     "ename": "ZeroDivisionError",
     "evalue": "division by zero",
     "output_type": "error",
     "traceback": [
      "\u001b[0;31m---------------------------------------------------------------------------\u001b[0m",
      "\u001b[0;31mZeroDivisionError\u001b[0m                         Traceback (most recent call last)",
      "\u001b[0;32m<ipython-input-266-2bc30387da97>\u001b[0m in \u001b[0;36m<module>\u001b[0;34m\u001b[0m\n\u001b[1;32m     11\u001b[0m \u001b[0mdfs\u001b[0m\u001b[0;34m=\u001b[0m\u001b[0;34m[\u001b[0m\u001b[0;34m]\u001b[0m\u001b[0;34m\u001b[0m\u001b[0;34m\u001b[0m\u001b[0m\n\u001b[1;32m     12\u001b[0m \u001b[0;32mfor\u001b[0m \u001b[0mtrial\u001b[0m \u001b[0;32min\u001b[0m \u001b[0mtrials\u001b[0m\u001b[0;34m:\u001b[0m\u001b[0;34m\u001b[0m\u001b[0;34m\u001b[0m\u001b[0m\n\u001b[0;32m---> 13\u001b[0;31m     \u001b[0mdfs\u001b[0m\u001b[0;34m.\u001b[0m\u001b[0mappend\u001b[0m\u001b[0;34m(\u001b[0m\u001b[0mget_lifes\u001b[0m\u001b[0;34m(\u001b[0m\u001b[0mextract_data\u001b[0m\u001b[0;34m(\u001b[0m\u001b[0mtrial\u001b[0m\u001b[0;34m)\u001b[0m\u001b[0;34m)\u001b[0m\u001b[0;34m)\u001b[0m\u001b[0;34m\u001b[0m\u001b[0;34m\u001b[0m\u001b[0m\n\u001b[0m",
      "\u001b[0;32m<ipython-input-265-c465c0f5154b>\u001b[0m in \u001b[0;36mget_lifes\u001b[0;34m(df)\u001b[0m\n\u001b[1;32m      4\u001b[0m     \u001b[0mcontrol\u001b[0m \u001b[0;34m=\u001b[0m \u001b[0;34m\"Control\"\u001b[0m \u001b[0;32mif\u001b[0m \u001b[0;34m\"Control\"\u001b[0m \u001b[0;32min\u001b[0m \u001b[0mdf\u001b[0m \u001b[0;32melse\u001b[0m \u001b[0;34m\"wDah - Control\"\u001b[0m\u001b[0;34m\u001b[0m\u001b[0;34m\u001b[0m\u001b[0m\n\u001b[1;32m      5\u001b[0m     \u001b[0mprint\u001b[0m\u001b[0;34m(\u001b[0m\u001b[0mdf\u001b[0m\u001b[0;34m)\u001b[0m\u001b[0;34m\u001b[0m\u001b[0;34m\u001b[0m\u001b[0m\n\u001b[0;32m----> 6\u001b[0;31m     \u001b[0;36m0\u001b[0m\u001b[0;34m/\u001b[0m\u001b[0;36m0\u001b[0m\u001b[0;34m\u001b[0m\u001b[0;34m\u001b[0m\u001b[0m\n\u001b[0m\u001b[1;32m      7\u001b[0m     \u001b[0;32mfor\u001b[0m \u001b[0mcol\u001b[0m \u001b[0;32min\u001b[0m \u001b[0mdf\u001b[0m\u001b[0;34m.\u001b[0m\u001b[0mcolumns\u001b[0m\u001b[0;34m:\u001b[0m\u001b[0;34m\u001b[0m\u001b[0;34m\u001b[0m\u001b[0m\n\u001b[1;32m      8\u001b[0m         \u001b[0mbase\u001b[0m \u001b[0;34m=\u001b[0m \u001b[0mdf\u001b[0m\u001b[0;34m[\u001b[0m\u001b[0mcol\u001b[0m\u001b[0;34m]\u001b[0m\u001b[0;34m\u001b[0m\u001b[0;34m\u001b[0m\u001b[0m\n",
      "\u001b[0;31mZeroDivisionError\u001b[0m: division by zero"
     ]
    },
    {
     "data": {
      "image/png": "[encoded data removed]",
      "text/plain": [
       "<Figure size 432x288 with 1 Axes>"
      ]
     },
     "metadata": {
      "needs_background": "light"
     },
     "output_type": "display_data"
    }
   ],
   "source": [
    "trials = [\n",
    "    \"Fig. 1D\",\n",
    "    \"Fig. 1E\",\n",
    "    \"Fig. 1F\",\n",
    "    \"Fig. 2A\",\n",
    "    \"E1. L+R\",\n",
    "    \"E2. L+T\",\n",
    "    \"E3. R+T\",\n",
    "    \"E4. L+R+T(2)\",\n",
    "]\n",
    "dfs=[]\n",
    "for trial in trials:\n",
    "    dfs.append(get_lifes(extract_data(trial)))"
   ]
  },
  {
   "cell_type": "code",
   "execution_count": 240,
   "metadata": {},
   "outputs": [],
   "source": [
    "import seaborn as sns"
   ]
  },
  {
   "cell_type": "code",
   "execution_count": null,
   "metadata": {},
   "outputs": [],
   "source": []
  },
  {
   "cell_type": "code",
   "execution_count": 258,
   "metadata": {
    "scrolled": false
   },
   "outputs": [
    {
     "data": {
      "text/plain": [
       "<seaborn.axisgrid.FacetGrid at 0x7f2fc27c2cf8>"
      ]
     },
     "execution_count": 258,
     "metadata": {},
     "output_type": "execute_result"
    },
    {
     "data": {
      "image/png": "[encoded data removed]",
      "text/plain": [
       "<Figure size 720x432 with 1 Axes>"
      ]
     },
     "metadata": {
      "needs_background": "light"
     },
     "output_type": "display_data"
    },
    {
     "data": {
      "image/png": "[encoded data removed]",
      "text/plain": [
       "<Figure size 433.5x360 with 1 Axes>"
      ]
     },
     "metadata": {
      "needs_background": "light"
     },
     "output_type": "display_data"
    }
   ],
   "source": [
    "data = pd.concat(dfs).reset_index().rename(columns={\"index\": \"treatment\"})\n",
    "plt.figure(figsize=(10, 6))\n",
    "sns.catplot(\n",
    "    x=\"value\", y=\"treatment\", data=data, hue=\"lifespan\", kind=\"bar\", ax=plt.gca()\n",
    ")"
   ]
  },
  {
   "cell_type": "code",
   "execution_count": 264,
   "metadata": {},
   "outputs": [
    {
     "data": {
      "text/html": [
       "<div>\n",
       "<style scoped>\n",
       "    .dataframe tbody tr th:only-of-type {\n",
       "        vertical-align: middle;\n",
       "    }\n",
       "\n",
       "    .dataframe tbody tr th {\n",
       "        vertical-align: top;\n",
       "    }\n",
       "\n",
       "    .dataframe thead th {\n",
       "        text-align: right;\n",
       "    }\n",
       "</style>\n",
       "<table border=\"1\" class=\"dataframe\">\n",
       "  <thead>\n",
       "    <tr style=\"text-align: right;\">\n",
       "      <th>lifespan</th>\n",
       "      <th>max</th>\n",
       "      <th>median</th>\n",
       "    </tr>\n",
       "    <tr>\n",
       "      <th>treatment</th>\n",
       "      <th></th>\n",
       "      <th></th>\n",
       "    </tr>\n",
       "  </thead>\n",
       "  <tbody>\n",
       "    <tr>\n",
       "      <th>Lithium</th>\n",
       "      <td>1.123870</td>\n",
       "      <td>1.216071</td>\n",
       "    </tr>\n",
       "    <tr>\n",
       "      <th>Lithium + Rapamycin</th>\n",
       "      <td>1.147840</td>\n",
       "      <td>1.329876</td>\n",
       "    </tr>\n",
       "    <tr>\n",
       "      <th>Lithium + Rapamycin + Trametinib</th>\n",
       "      <td>1.329802</td>\n",
       "      <td>1.475760</td>\n",
       "    </tr>\n",
       "    <tr>\n",
       "      <th>Lithium + Trametinib</th>\n",
       "      <td>1.204092</td>\n",
       "      <td>1.280866</td>\n",
       "    </tr>\n",
       "    <tr>\n",
       "      <th>Rapamycin</th>\n",
       "      <td>1.169691</td>\n",
       "      <td>1.262455</td>\n",
       "    </tr>\n",
       "    <tr>\n",
       "      <th>Rapamycin + Trametinib</th>\n",
       "      <td>1.281428</td>\n",
       "      <td>1.395281</td>\n",
       "    </tr>\n",
       "    <tr>\n",
       "      <th>Trametinib</th>\n",
       "      <td>1.197581</td>\n",
       "      <td>1.249229</td>\n",
       "    </tr>\n",
       "  </tbody>\n",
       "</table>\n",
       "</div>"
      ],
      "text/plain": [
       "lifespan                               max    median\n",
       "treatment                                           \n",
       "Lithium                           1.123870  1.216071\n",
       "Lithium + Rapamycin               1.147840  1.329876\n",
       "Lithium + Rapamycin + Trametinib  1.329802  1.475760\n",
       "Lithium + Trametinib              1.204092  1.280866\n",
       "Rapamycin                         1.169691  1.262455\n",
       "Rapamycin + Trametinib            1.281428  1.395281\n",
       "Trametinib                        1.197581  1.249229"
      ]
     },
     "execution_count": 264,
     "metadata": {},
     "output_type": "execute_result"
    }
   ],
   "source": [
    "data.groupby(['treatment','lifespan']).value.max().unstack()"
   ]
  }
 ],
 "metadata": {
  "kernelspec": {
   "display_name": "Python 3",
   "language": "python",
   "name": "python3"
  },
  "language_info": {
   "codemirror_mode": {
    "name": "ipython",
    "version": 3
   },
   "file_extension": ".py",
   "mimetype": "text/x-python",
   "name": "python",
   "nbconvert_exporter": "python",
   "pygments_lexer": "ipython3",
   "version": "3.7.3"
  }
 },
 "nbformat": 4,
 "nbformat_minor": 2
}
